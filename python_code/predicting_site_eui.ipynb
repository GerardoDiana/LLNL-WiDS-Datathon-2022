{
  "cells": [
    {
      "cell_type": "markdown",
      "metadata": {
        "id": "7mZZ8zrLB-z2"
      },
      "source": [
        "# **WiDS DATATHON 2022**\n"
      ]
    },
    {
      "cell_type": "code",
      "source": [
        "# import torch\n",
        "# !pip install gpytorch"
      ],
      "metadata": {
        "id": "OHybmGZ3Zb5Z"
      },
      "execution_count": null,
      "outputs": []
    },
    {
      "cell_type": "code",
      "source": [
        "# torch.cuda.is_available()\n",
        "# z = torch.zeros(10).cuda()"
      ],
      "metadata": {
        "id": "Qi4fjD25N8Xe"
      },
      "execution_count": null,
      "outputs": []
    },
    {
      "cell_type": "markdown",
      "metadata": {
        "id": "maJc7-mgDyTn"
      },
      "source": [
        "## Dataset Download and Setup Steps:\n",
        "\n",
        "1. Register into Kaggle account with gmail\n",
        "2. Go into Rules section and click accept.\n",
        "3. First download the [WiDS Kaggle's Dataset](https://www.kaggle.com/c/widsdatathon2022/data).\n",
        "4. unzip the downloaded zip file locally. Mac double click on it, terminal use the unzip command. \n",
        "5. Then go to the \"files\" tab on the left side of the collab notebook. Go under \"content\" then drag locally extracted wids dataset directory and put it under \"content\". "
      ]
    },
    {
      "cell_type": "markdown",
      "source": [
        "##Dataset Description\n",
        "\n",
        "The Women in Data Science dataset consists of variables that describe building characteristics (e.g. floor area, facility type, etc.) and weather variables (e.g. annual average temperature, annual total precipitation, etc.) for the regions in which the buildings are located. This data was collected over 7 years and a number of states within the United States. \n",
        "\n",
        "\n",
        "\n",
        "Goal is to analyze the characteristics of the building and the weather data for the location of the building, creating models to predict building energy consumption (measured as Site Energy Usage Intensity)."
      ],
      "metadata": {
        "id": "muZO0Ly17nh5"
      }
    },
    {
      "cell_type": "markdown",
      "source": [
        "##Imports\n",
        "\n",
        "First lets import the modules we will use:\n",
        "\n",
        "*   pandas\n",
        "  *   Tool for analyzing, cleaning, exploring, and manipulating data.\n",
        "*   matplotlib\n",
        "  *   Plotting library.\n",
        "*   seaborn\n",
        "  *   Data visualization library. \n",
        "*   numpy\n",
        "  *   Library for multidimensional array objects & high-level math functions.\n",
        "*   scikit-learn\n",
        "  *   Predictive data analysis tool."
      ],
      "metadata": {
        "id": "Rky2e3jy5xlY"
      }
    },
    {
      "cell_type": "code",
      "execution_count": null,
      "metadata": {
        "id": "lxcS31Op6Srp"
      },
      "outputs": [],
      "source": [
        "import pandas as pd\n",
        "import matplotlib.pyplot as plt\n",
        "import seaborn as sns\n",
        "import numpy as np\n",
        "# import gpytorch\n",
        "\n",
        "from sklearn.preprocessing import LabelEncoder\n",
        "from sklearn.model_selection import train_test_split\n",
        "from sklearn.linear_model import LinearRegression\n",
        "from sklearn.ensemble import RandomForestRegressor\n",
        "from sklearn import metrics\n",
        "\n",
        "from sklearn.ensemble import GradientBoostingRegressor"
      ]
    },
    {
      "cell_type": "markdown",
      "metadata": {
        "id": "3zsnlh196jqx"
      },
      "source": [
        "## Load Data"
      ]
    },
    {
      "cell_type": "markdown",
      "metadata": {
        "id": "kyAhN5q16mbv"
      },
      "source": [
        "We will be using pandas to load and preprocess the data in \"DataFrames\"."
      ]
    },
    {
      "cell_type": "code",
      "execution_count": null,
      "metadata": {
        "id": "U_hav3jd6rQ_"
      },
      "outputs": [],
      "source": [
        "train_original = pd.read_csv('train.csv')\n",
        "test_original = pd.read_csv('test.csv')"
      ]
    },
    {
      "cell_type": "code",
      "source": [
        "print('Number of train samples are', train_original.shape)\n",
        "print('Number of test samples are', test_original.shape)"
      ],
      "metadata": {
        "id": "3AR5a1WmsRZk"
      },
      "execution_count": null,
      "outputs": []
    },
    {
      "cell_type": "markdown",
      "metadata": {
        "id": "1yVkXLgSGWLY"
      },
      "source": [
        "## Data Pre-processing"
      ]
    },
    {
      "cell_type": "markdown",
      "source": [
        "### Label Encoding\n",
        "\n",
        "We need to convert our categorical variables into numerical labels, AKA label encoding. Note: We will consider `year_built` as a categorical variable."
      ],
      "metadata": {
        "id": "oS932UNP9GlY"
      }
    },
    {
      "cell_type": "code",
      "source": [
        "categorical_features = ['State_Factor', 'building_class', 'facility_type', 'year_built']\n",
        "le = LabelEncoder()\n",
        "\n",
        "for feature in categorical_features:\n",
        "    train_original[feature]= le.fit_transform(train_original[feature]).astype(\"uint8\")\n",
        "    test_original[feature]= le.fit_transform(test_original[feature]).astype(\"uint8\")"
      ],
      "metadata": {
        "id": "Gwi32kHZv_Ii"
      },
      "execution_count": null,
      "outputs": []
    },
    {
      "cell_type": "markdown",
      "source": [
        "### Missing Values\n",
        "\n",
        "The data might be a little messy. Let's first check for missing values"
      ],
      "metadata": {
        "id": "3WM4yZbL-8TH"
      }
    },
    {
      "cell_type": "code",
      "source": [
        "plt.figure(figsize=(21,7))\n",
        "sns.heatmap(train.isna().values, cmap = ['#357335','#ffb6c1'], xticklabels=train.columns)\n",
        "plt.title(\"Missing Values in Training Data\", size=20)"
      ],
      "metadata": {
        "colab": {
          "base_uri": "https://localhost:8080/",
          "height": 518
        },
        "id": "wpNDzUlD8hSJ",
        "outputId": "b5809367-311a-499b-ac8a-941d9a777237"
      },
      "execution_count": null,
      "outputs": [
        {
          "output_type": "execute_result",
          "data": {
            "text/plain": [
              "Text(0.5, 1.0, 'Missing Values in Training Data')"
            ]
          },
          "metadata": {},
          "execution_count": 19
        },
        {
          "output_type": "display_data",
          "data": {
            "image/png": "[encoded data removed]",
            "text/plain": [
              "<Figure size 1512x504 with 2 Axes>"
            ]
          },
          "metadata": {
            "needs_background": "light"
          }
        }
      ]
    },
    {
      "cell_type": "markdown",
      "source": [
        "#### **Energy Star Rating**\n",
        "\n",
        "First let's focus on imputing `energy_star_rating`. We split the data in order to fit a XGBoost model with all available `energy_star_ratings`. Then predict and replace values where `energy_star_rating` is missing for `train_original` and `test_original` datasets."
      ],
      "metadata": {
        "id": "BYNeOtJvAtjj"
      }
    },
    {
      "cell_type": "code",
      "source": [
        "# train contains ~35% missining values energy_star_rating\n",
        "train_original[train_original['energy_star_rating'].isna()].shape[0]/(train_original.shape[0])"
      ],
      "metadata": {
        "colab": {
          "base_uri": "https://localhost:8080/"
        },
        "id": "hOahdN5wuHt9",
        "outputId": "e841f28f-6c3a-453a-e909-fe348e4e2de0"
      },
      "execution_count": null,
      "outputs": [
        {
          "output_type": "execute_result",
          "data": {
            "text/plain": [
              "0.2606620732730857"
            ]
          },
          "metadata": {},
          "execution_count": 9
        }
      ]
    },
    {
      "cell_type": "code",
      "source": [
        "# test contains 18.8% missining values energy_star_rating\n",
        "test_original[test_original['energy_star_rating'].isna()].shape[0]/(test_original.shape[0])"
      ],
      "metadata": {
        "colab": {
          "base_uri": "https://localhost:8080/"
        },
        "id": "g8Lmg0EXANNR",
        "outputId": "1bf00c11-4105-4f00-83f9-faeb596f9537"
      },
      "execution_count": null,
      "outputs": [
        {
          "output_type": "execute_result",
          "data": {
            "text/plain": [
              "0.18847729743289574"
            ]
          },
          "metadata": {},
          "execution_count": 10
        }
      ]
    },
    {
      "cell_type": "code",
      "source": [
        "# set of energy_star_rating values that are present\n",
        "train_avail_esr = train_original[~train_original['energy_star_rating'].isna()]\n",
        "# test_avail_esr  = test_original[~test_original['energy_star_rating'].isna()]\n",
        "# avail_esr = pd.concat([train_avail_esr,test_avail_esr], axis=0)"
      ],
      "metadata": {
        "id": "avO-_IlRt98D"
      },
      "execution_count": null,
      "outputs": []
    },
    {
      "cell_type": "code",
      "source": [
        "# set of energy_star_rating values that are missing\n",
        "train_unavail_esr = train_original[train_original['energy_star_rating'].isna()]\n",
        "# test_unavail_esr = test_original[test_original['energy_star_rating'].isna()]"
      ],
      "metadata": {
        "id": "95SbcqjMvBs8"
      },
      "execution_count": null,
      "outputs": []
    },
    {
      "cell_type": "code",
      "source": [
        "cols_with_missing = ['site_eui']\n",
        "for feature in cols_with_missing:\n",
        "    mean = train_original[feature].mean()\n",
        "    train_original[feature].fillna(mean, inplace=True)"
      ],
      "metadata": {
        "id": "fSTuDNmuxrwu"
      },
      "execution_count": null,
      "outputs": []
    },
    {
      "cell_type": "code",
      "source": [
        "# Features\n",
        "X = train_avail_esr.drop(['energy_star_rating'], axis=1)[['floor_area','year_built','State_Factor','building_class','facility_type','site_eui']]\n",
        "# Labels\n",
        "y = train_avail_esr['energy_star_rating']"
      ],
      "metadata": {
        "id": "bNj4bTjktdE2"
      },
      "execution_count": null,
      "outputs": []
    },
    {
      "cell_type": "code",
      "source": [
        "import xgboost\n",
        "xgboost_model = xgboost.XGBRegressor(n_estimators=500, learning_rate=0.02, gamma=0, subsample=0.75,\n",
        "                           colsample_bytree=0.4, max_depth=10)"
      ],
      "metadata": {
        "id": "BWnI0tAHzARj"
      },
      "execution_count": null,
      "outputs": []
    },
    {
      "cell_type": "code",
      "source": [
        "# fit model\n",
        "xgboost_model.fit(X, y)"
      ],
      "metadata": {
        "colab": {
          "base_uri": "https://localhost:8080/"
        },
        "id": "vqk3q7ZwzN6G",
        "outputId": "f9393cd4-f9cb-49c4-c505-59af92598075"
      },
      "execution_count": null,
      "outputs": [
        {
          "output_type": "stream",
          "name": "stdout",
          "text": [
            "[21:54:21] WARNING: /workspace/src/objective/regression_obj.cu:152: reg:linear is now deprecated in favor of reg:squarederror.\n"
          ]
        },
        {
          "output_type": "execute_result",
          "data": {
            "text/plain": [
              "XGBRegressor(colsample_bytree=0.4, learning_rate=0.02, max_depth=10,\n",
              "             n_estimators=500, subsample=0.75)"
            ]
          },
          "metadata": {},
          "execution_count": 18
        }
      ]
    },
    {
      "cell_type": "code",
      "source": [
        "X_new = train_unavail_esr.drop(['energy_star_rating'], axis=1)[['floor_area','year_built','State_Factor','building_class','facility_type','site_eui']]"
      ],
      "metadata": {
        "id": "PYh7np6tzfKq"
      },
      "execution_count": null,
      "outputs": []
    },
    {
      "cell_type": "code",
      "source": [
        "# make a prediction\n",
        "yhat = xgboost_model.predict(X_new)"
      ],
      "metadata": {
        "id": "8PjAEUBTzN3l"
      },
      "execution_count": null,
      "outputs": []
    },
    {
      "cell_type": "code",
      "source": [
        "train_unavail_esr['energy_star_rating']=yhat"
      ],
      "metadata": {
        "id": "B6zWijsIUjUT",
        "colab": {
          "base_uri": "https://localhost:8080/"
        },
        "outputId": "6a3b85f1-acb7-460f-b720-25a8163d6c26"
      },
      "execution_count": null,
      "outputs": [
        {
          "output_type": "stream",
          "name": "stderr",
          "text": [
            "/usr/local/lib/python3.7/dist-packages/ipykernel_launcher.py:1: SettingWithCopyWarning: \n",
            "A value is trying to be set on a copy of a slice from a DataFrame.\n",
            "Try using .loc[row_indexer,col_indexer] = value instead\n",
            "\n",
            "See the caveats in the documentation: https://pandas.pydata.org/pandas-docs/stable/user_guide/indexing.html#returning-a-view-versus-a-copy\n",
            "  \"\"\"Entry point for launching an IPython kernel.\n"
          ]
        }
      ]
    },
    {
      "cell_type": "code",
      "source": [
        "recomputed = pd.concat([train_avail_esr, train_unavail_esr], axis=0)"
      ],
      "metadata": {
        "id": "COfQgjRGLvFQ"
      },
      "execution_count": null,
      "outputs": []
    },
    {
      "cell_type": "code",
      "source": [
        "recomputed.shape"
      ],
      "metadata": {
        "colab": {
          "base_uri": "https://localhost:8080/"
        },
        "id": "_6p34c8GzN8v",
        "outputId": "615c1b59-47f5-4f29-e84b-ff3c6a831c47"
      },
      "execution_count": null,
      "outputs": [
        {
          "output_type": "execute_result",
          "data": {
            "text/plain": [
              "(75757, 64)"
            ]
          },
          "metadata": {},
          "execution_count": 23
        }
      ]
    },
    {
      "cell_type": "code",
      "source": [
        "train_original = recomputed"
      ],
      "metadata": {
        "id": "yyR0DJlXE-P6"
      },
      "execution_count": null,
      "outputs": []
    },
    {
      "cell_type": "markdown",
      "source": [
        "#### **Other Columns**"
      ],
      "metadata": {
        "id": "3-anqmJnH73z"
      }
    },
    {
      "cell_type": "code",
      "source": [
        "cols_with_missing = [col for col in train_original.columns if train_original[col].isnull().any()]\n",
        "\n",
        "miss_count = train_original.isna().sum()\n",
        "miss_df = (pd.concat([miss_count.rename('Missing Count'), miss_count.div(len(train_original)).rename('Missing Value')], axis=1).loc[miss_count.ne(0)])\n",
        "miss_df.style.background_gradient(cmap=sns.light_palette((351, 100, 86), input='husl', as_cmap=True))\n"
      ],
      "metadata": {
        "colab": {
          "base_uri": "https://localhost:8080/",
          "height": 175
        },
        "outputId": "180e08f3-2750-4c62-c5e9-1e04a97baa14",
        "id": "VqICpubYIX0a"
      },
      "execution_count": null,
      "outputs": [
        {
          "output_type": "execute_result",
          "data": {
            "text/html": [
              "<style type=\"text/css\">\n",
              "#T_d8b9b_row0_col0, #T_d8b9b_row0_col1, #T_d8b9b_row2_col0, #T_d8b9b_row2_col1 {\n",
              "  background-color: #f3f0f1;\n",
              "  color: #000000;\n",
              "}\n",
              "#T_d8b9b_row1_col0, #T_d8b9b_row1_col1 {\n",
              "  background-color: #f5eaed;\n",
              "  color: #000000;\n",
              "}\n",
              "#T_d8b9b_row3_col0, #T_d8b9b_row3_col1 {\n",
              "  background-color: #ffc9d9;\n",
              "  color: #000000;\n",
              "}\n",
              "</style>\n",
              "<table id=\"T_d8b9b_\" class=\"dataframe\">\n",
              "  <thead>\n",
              "    <tr>\n",
              "      <th class=\"blank level0\" >&nbsp;</th>\n",
              "      <th class=\"col_heading level0 col0\" >Missing Count</th>\n",
              "      <th class=\"col_heading level0 col1\" >Missing Value</th>\n",
              "    </tr>\n",
              "  </thead>\n",
              "  <tbody>\n",
              "    <tr>\n",
              "      <th id=\"T_d8b9b_level0_row0\" class=\"row_heading level0 row0\" >direction_max_wind_speed</th>\n",
              "      <td id=\"T_d8b9b_row0_col0\" class=\"data row0 col0\" >41082</td>\n",
              "      <td id=\"T_d8b9b_row0_col1\" class=\"data row0 col1\" >0.542287</td>\n",
              "    </tr>\n",
              "    <tr>\n",
              "      <th id=\"T_d8b9b_level0_row1\" class=\"row_heading level0 row1\" >direction_peak_wind_speed</th>\n",
              "      <td id=\"T_d8b9b_row1_col0\" class=\"data row1 col0\" >41811</td>\n",
              "      <td id=\"T_d8b9b_row1_col1\" class=\"data row1 col1\" >0.551909</td>\n",
              "    </tr>\n",
              "    <tr>\n",
              "      <th id=\"T_d8b9b_level0_row2\" class=\"row_heading level0 row2\" >max_wind_speed</th>\n",
              "      <td id=\"T_d8b9b_row2_col0\" class=\"data row2 col0\" >41082</td>\n",
              "      <td id=\"T_d8b9b_row2_col1\" class=\"data row2 col1\" >0.542287</td>\n",
              "    </tr>\n",
              "    <tr>\n",
              "      <th id=\"T_d8b9b_level0_row3\" class=\"row_heading level0 row3\" >days_with_fog</th>\n",
              "      <td id=\"T_d8b9b_row3_col0\" class=\"data row3 col0\" >45796</td>\n",
              "      <td id=\"T_d8b9b_row3_col1\" class=\"data row3 col1\" >0.604512</td>\n",
              "    </tr>\n",
              "  </tbody>\n",
              "</table>\n"
            ],
            "text/plain": [
              "<pandas.io.formats.style.Styler at 0x7f7c8d820d10>"
            ]
          },
          "metadata": {},
          "execution_count": 35
        }
      ]
    },
    {
      "cell_type": "code",
      "source": [
        "for feature in cols_with_missing:\n",
        "    mean = train_original[feature].mean()\n",
        "    train_original[feature].fillna(mean, inplace=True)"
      ],
      "metadata": {
        "id": "GFdBySBwIv7r"
      },
      "execution_count": null,
      "outputs": []
    },
    {
      "cell_type": "markdown",
      "source": [
        "### Add Seasons"
      ],
      "metadata": {
        "id": "lmWJxflwVcD3"
      }
    },
    {
      "cell_type": "code",
      "source": [
        "def temp_to_seasons(df):\n",
        "    '''\n",
        "    This function takes a dataframe and performs 3 tasks:\n",
        "        1. Drop the min and max columns\n",
        "        2. Converts the remaining into 4 seasons\n",
        "        3. Drops the avg columns\n",
        "    '''        \n",
        "    # grouping in seasons\n",
        "    df['spring'] = (df['march_avg_temp'] + df['april_avg_temp'] + df['may_avg_temp'])/3\n",
        "    df['summer'] = (df['june_avg_temp'] + df['july_avg_temp'] + df['august_avg_temp'])/3\n",
        "    df['autumn'] = (df['september_avg_temp'] + df['october_avg_temp'] + df['november_avg_temp'])/3\n",
        "    df['winter'] = (df['december_avg_temp'] + df['january_avg_temp'] + df['february_avg_temp'])/3\n",
        "  \n",
        "    for i in df.columns:\n",
        "        if '_avg' in i:\n",
        "          df.drop(labels=i, axis=1, inplace=True)\n",
        "        elif 'min_temp' in i:\n",
        "          df.drop(labels=i, axis=1, inplace=True)\n",
        "        elif 'max_temp' in i:\n",
        "          df.drop(labels=i, axis=1, inplace=True)\n",
        "    return df"
      ],
      "metadata": {
        "id": "IG5vny1jVZDR"
      },
      "execution_count": null,
      "outputs": []
    },
    {
      "cell_type": "code",
      "source": [
        "train_original = temp_to_seasons(train_original)\n",
        "test_original = temp_to_seasons(test_original)"
      ],
      "metadata": {
        "id": "jWeX77U3Vdsp"
      },
      "execution_count": null,
      "outputs": []
    },
    {
      "cell_type": "code",
      "source": [
        "list(train_original)"
      ],
      "metadata": {
        "colab": {
          "base_uri": "https://localhost:8080/"
        },
        "id": "addDRu9wVffB",
        "outputId": "46291335-cb6b-4c6c-d6d9-f4eae376367f"
      },
      "execution_count": null,
      "outputs": [
        {
          "output_type": "execute_result",
          "data": {
            "text/plain": [
              "['Year_Factor',\n",
              " 'State_Factor',\n",
              " 'building_class',\n",
              " 'facility_type',\n",
              " 'floor_area',\n",
              " 'year_built',\n",
              " 'energy_star_rating',\n",
              " 'ELEVATION',\n",
              " 'cooling_degree_days',\n",
              " 'heating_degree_days',\n",
              " 'precipitation_inches',\n",
              " 'snowfall_inches',\n",
              " 'snowdepth_inches',\n",
              " 'avg_temp',\n",
              " 'days_below_30F',\n",
              " 'days_below_20F',\n",
              " 'days_below_10F',\n",
              " 'days_below_0F',\n",
              " 'days_above_80F',\n",
              " 'days_above_90F',\n",
              " 'days_above_100F',\n",
              " 'days_above_110F',\n",
              " 'direction_max_wind_speed',\n",
              " 'direction_peak_wind_speed',\n",
              " 'max_wind_speed',\n",
              " 'days_with_fog',\n",
              " 'site_eui',\n",
              " 'id',\n",
              " 'spring',\n",
              " 'summer',\n",
              " 'autumn',\n",
              " 'winter']"
            ]
          },
          "metadata": {},
          "execution_count": 27
        }
      ]
    },
    {
      "cell_type": "markdown",
      "source": [
        "### Add Floor Area Partition"
      ],
      "metadata": {
        "id": "LB1Vu-ZpJWdu"
      }
    },
    {
      "cell_type": "code",
      "source": [
        "for i in range(1,8):\n",
        "  if i == 7:\n",
        "    print(\"Observation size for Year_Factor {}:\\t\".format(i),test_original.loc[test_original['Year_Factor']==i].shape[0])\n",
        "  else:\n",
        "    print(\"Observation size for Year_Factor {}:\\t\".format(i),train_original.loc[train_original['Year_Factor']==i].shape[0])"
      ],
      "metadata": {
        "colab": {
          "base_uri": "https://localhost:8080/"
        },
        "id": "hG4ZXeZhVhdq",
        "outputId": "e9c91092-bb9d-4fdc-a59d-55167af589c7"
      },
      "execution_count": null,
      "outputs": [
        {
          "output_type": "stream",
          "name": "stdout",
          "text": [
            "Observation size for Year_Factor 1:\t 2117\n",
            "Observation size for Year_Factor 2:\t 9058\n",
            "Observation size for Year_Factor 3:\t 10879\n",
            "Observation size for Year_Factor 4:\t 12946\n",
            "Observation size for Year_Factor 5:\t 18308\n",
            "Observation size for Year_Factor 6:\t 22449\n",
            "Observation size for Year_Factor 7:\t 9705\n"
          ]
        }
      ]
    },
    {
      "cell_type": "code",
      "source": [
        "# create categories for floor area\n",
        "train_original['floor_area_partition'] = pd.cut(train_original.floor_area,bins=np.exp([0,9,10,10.8,12,14,16]), labels=[0,1,2,3,4,5], right=False).values\n",
        "test_original['floor_area_partition'] = pd.cut(test_original.floor_area,bins=np.exp([0,9,10,10.8,12,14,16]), labels=[0,1,2,3,4,5], right=False).values"
      ],
      "metadata": {
        "id": "QI2eqQDyVk7h"
      },
      "execution_count": null,
      "outputs": []
    },
    {
      "cell_type": "code",
      "source": [
        "train_original['floor_area'] = np.log(train_original['floor_area'].values)\n",
        "test_original['floor_area'] = np.log(test_original['floor_area'].values)"
      ],
      "metadata": {
        "id": "cv2LvsDgVnRT"
      },
      "execution_count": null,
      "outputs": []
    },
    {
      "cell_type": "code",
      "source": [
        "# numerical_features = train.select_dtypes('number').columns\n",
        "categorical_features = ['State_Factor', 'building_class', 'facility_type','floor_area_partition','year_built']\n",
        "le = LabelEncoder()\n",
        "\n",
        "for feature in categorical_features:\n",
        "    train_original[feature]= le.fit_transform(train_original[feature]).astype(\"uint8\")\n",
        "    test_original[feature]= le.fit_transform(test_original[feature]).astype(\"uint8\")"
      ],
      "metadata": {
        "id": "tBo7CnfWV8LS"
      },
      "execution_count": null,
      "outputs": []
    },
    {
      "cell_type": "markdown",
      "source": [
        "### Add Lag Features\n",
        "Because we lag the features, we can only train on 2-6 Year_Factors"
      ],
      "metadata": {
        "id": "YDr659soWGsD"
      }
    },
    {
      "cell_type": "code",
      "source": [
        "train=train_original\n",
        "ts_train = train[train['Year_Factor']>1]"
      ],
      "metadata": {
        "id": "anUPwVe6WA5C"
      },
      "execution_count": null,
      "outputs": []
    },
    {
      "cell_type": "markdown",
      "source": [
        "Upsample each year_factor category, or dont"
      ],
      "metadata": {
        "id": "UPzemXMwWSd9"
      }
    },
    {
      "cell_type": "code",
      "source": [
        "max_size = ts_train['Year_Factor'].value_counts().max()\n",
        "upstampled_X = [ts_train]\n",
        "for class_index, group in ts_train.groupby('Year_Factor'):\n",
        "    upstampled_X.append(group.sample(max_size-len(group), replace=True))\n",
        "frame_new = pd.concat(upstampled_X)\n",
        "# frame_new=ts_train"
      ],
      "metadata": {
        "id": "_KxQVt2CWNsh"
      },
      "execution_count": null,
      "outputs": []
    },
    {
      "cell_type": "code",
      "source": [
        "for i in range(2,7):\n",
        "  if i == 7:\n",
        "    print(\"Observation size for Year_Factor {}:\\t\".format(i),test_original.loc[test_original['Year_Factor']==i].shape[0])\n",
        "  else:\n",
        "    print(\"Observation size for Year_Factor {}:\\t\".format(i),frame_new.loc[frame_new['Year_Factor']==i].shape[0])"
      ],
      "metadata": {
        "colab": {
          "base_uri": "https://localhost:8080/"
        },
        "id": "7T5LG7Y7WWeg",
        "outputId": "895b703b-f54a-4f51-9692-479590cbe6fa"
      },
      "execution_count": null,
      "outputs": [
        {
          "output_type": "stream",
          "name": "stdout",
          "text": [
            "Observation size for Year_Factor 2:\t 22449\n",
            "Observation size for Year_Factor 3:\t 22449\n",
            "Observation size for Year_Factor 4:\t 22449\n",
            "Observation size for Year_Factor 5:\t 22449\n",
            "Observation size for Year_Factor 6:\t 22449\n"
          ]
        }
      ]
    },
    {
      "cell_type": "code",
      "source": [
        "def variable_lag1(df, column):\n",
        "  mean_by_year = train_original.groupby(['Year_Factor']).mean()[column].values\n",
        "  # create a vector to save the mean_differenced lag\n",
        "  mean_diff_lag1 = []\n",
        "  # print(mean_by_year)\n",
        "  for idx,row in df.iterrows(): \n",
        "    year = row['Year_Factor']\n",
        "    if year != 1:\n",
        "      # subtract 1 for previous year, subtract 1 for python indexing\n",
        "      mean_diff_lag1.append(row[column] - mean_by_year[int(year-1-1)])\n",
        "    else:\n",
        "      mean_diff_lag1.append(np.nan)\n",
        "  new_column = 'lag1_{}'.format(column)\n",
        "  df[new_column] = mean_diff_lag1"
      ],
      "metadata": {
        "id": "bxRj_LCaW3vB"
      },
      "execution_count": null,
      "outputs": []
    },
    {
      "cell_type": "code",
      "source": [
        "variable_lag1(frame_new, 'summer')\n",
        "variable_lag1(frame_new, 'spring')\n",
        "variable_lag1(frame_new, 'autumn')\n",
        "variable_lag1(frame_new, 'winter')\n",
        "variable_lag1(frame_new, 'cooling_degree_days')\n",
        "variable_lag1(frame_new, 'heating_degree_days')\n",
        "variable_lag1(frame_new, 'precipitation_inches')\n",
        "variable_lag1(frame_new, 'snowfall_inches')\n",
        "variable_lag1(frame_new, 'days_below_20F')\n",
        "variable_lag1(frame_new, 'days_above_100F')\n",
        "variable_lag1(frame_new, 'energy_star_rating')\n",
        "variable_lag1(frame_new, 'precipitation_inches')"
      ],
      "metadata": {
        "id": "cPFBsOFzW6DJ"
      },
      "execution_count": null,
      "outputs": []
    },
    {
      "cell_type": "code",
      "source": [
        "frame_new = frame_new.drop(['id'], axis=1)"
      ],
      "metadata": {
        "id": "k8nwON0eW8qq"
      },
      "execution_count": null,
      "outputs": []
    },
    {
      "cell_type": "code",
      "source": [
        "frame_new.shape"
      ],
      "metadata": {
        "colab": {
          "base_uri": "https://localhost:8080/"
        },
        "id": "zDnuL6TBPY2R",
        "outputId": "bb140c72-aa72-42ec-b952-26d2a143f625"
      },
      "execution_count": null,
      "outputs": [
        {
          "output_type": "execute_result",
          "data": {
            "text/plain": [
              "(112245, 43)"
            ]
          },
          "metadata": {},
          "execution_count": 45
        }
      ]
    },
    {
      "cell_type": "code",
      "source": [
        "full_features = list(frame_new)\n",
        "if (len(full_features) % 2) != 0:\n",
        "  full_features.append(\" \")\n",
        "it = iter(full_features)\n",
        "\n",
        "for feature in it:\n",
        "  print( '{:<40s} {:<40s}'.format(feature, next(it)) )"
      ],
      "metadata": {
        "colab": {
          "base_uri": "https://localhost:8080/"
        },
        "id": "ld1oZ_5dXQEB",
        "outputId": "1a0558fe-8471-4eec-989b-1fb6df198e84"
      },
      "execution_count": null,
      "outputs": [
        {
          "output_type": "stream",
          "name": "stdout",
          "text": [
            "Year_Factor                              State_Factor                            \n",
            "building_class                           facility_type                           \n",
            "floor_area                               year_built                              \n",
            "energy_star_rating                       ELEVATION                               \n",
            "cooling_degree_days                      heating_degree_days                     \n",
            "precipitation_inches                     snowfall_inches                         \n",
            "snowdepth_inches                         avg_temp                                \n",
            "days_below_30F                           days_below_20F                          \n",
            "days_below_10F                           days_below_0F                           \n",
            "days_above_80F                           days_above_90F                          \n",
            "days_above_100F                          days_above_110F                         \n",
            "direction_max_wind_speed                 direction_peak_wind_speed               \n",
            "max_wind_speed                           days_with_fog                           \n",
            "site_eui                                 spring                                  \n",
            "summer                                   autumn                                  \n",
            "winter                                   floor_area_partition                    \n",
            "lag1_summer                              lag1_spring                             \n",
            "lag1_autumn                              lag1_winter                             \n",
            "lag1_cooling_degree_days                 lag1_heating_degree_days                \n",
            "lag1_precipitation_inches                lag1_snowfall_inches                    \n",
            "lag1_days_below_20F                      lag1_days_above_100F                    \n",
            "lag1_energy_star_rating                                                          \n"
          ]
        }
      ]
    },
    {
      "cell_type": "markdown",
      "source": [
        "# Train/test splits start here"
      ],
      "metadata": {
        "id": "bqY0_mHvXiZe"
      }
    },
    {
      "cell_type": "code",
      "source": [
        "# Features\n",
        "X = frame_new.drop(['site_eui'], axis=1)\n",
        "submission_test = test_original.drop('id', axis = 1)\n",
        "# Labels\n",
        "y = frame_new['site_eui']\n",
        "\n",
        "\n",
        "# Initial split to get training set\n",
        "X_train, X_test, y_train, y_test = train_test_split(X, y, test_size=0.2, random_state=1)\n",
        "# Second split to get validation and test set remove the val part we might not need it \n",
        "#X_test, X_val, y_test, y_val = train_test_split(X_test, y_test, test_size=0.5, random_state=1)"
      ],
      "metadata": {
        "id": "ko6Tjp7DXSfO"
      },
      "execution_count": null,
      "outputs": []
    },
    {
      "cell_type": "code",
      "source": [
        "X.head(20)"
      ],
      "metadata": {
        "colab": {
          "base_uri": "https://localhost:8080/",
          "height": 770
        },
        "id": "HOEIcJdwqS_3",
        "outputId": "85bd5caf-2d91-418d-c851-81844fa7182e"
      },
      "execution_count": null,
      "outputs": [
        {
          "output_type": "execute_result",
          "data": {
            "text/html": [
              "\n",
              "  <div id=\"df-64122876-8dc0-4155-b9e7-7e43c870e40d\">\n",
              "    <div class=\"colab-df-container\">\n",
              "      <div>\n",
              "<style scoped>\n",
              "    .dataframe tbody tr th:only-of-type {\n",
              "        vertical-align: middle;\n",
              "    }\n",
              "\n",
              "    .dataframe tbody tr th {\n",
              "        vertical-align: top;\n",
              "    }\n",
              "\n",
              "    .dataframe thead th {\n",
              "        text-align: right;\n",
              "    }\n",
              "</style>\n",
              "<table border=\"1\" class=\"dataframe\">\n",
              "  <thead>\n",
              "    <tr style=\"text-align: right;\">\n",
              "      <th></th>\n",
              "      <th>Year_Factor</th>\n",
              "      <th>State_Factor</th>\n",
              "      <th>building_class</th>\n",
              "      <th>facility_type</th>\n",
              "      <th>floor_area</th>\n",
              "      <th>year_built</th>\n",
              "      <th>energy_star_rating</th>\n",
              "      <th>ELEVATION</th>\n",
              "      <th>cooling_degree_days</th>\n",
              "      <th>heating_degree_days</th>\n",
              "      <th>...</th>\n",
              "      <th>lag1_spring</th>\n",
              "      <th>lag1_autumn</th>\n",
              "      <th>lag1_winter</th>\n",
              "      <th>lag1_cooling_degree_days</th>\n",
              "      <th>lag1_heating_degree_days</th>\n",
              "      <th>lag1_precipitation_inches</th>\n",
              "      <th>lag1_snowfall_inches</th>\n",
              "      <th>lag1_days_below_20F</th>\n",
              "      <th>lag1_days_above_100F</th>\n",
              "      <th>lag1_energy_star_rating</th>\n",
              "    </tr>\n",
              "  </thead>\n",
              "  <tbody>\n",
              "    <tr>\n",
              "      <th>404</th>\n",
              "      <td>2</td>\n",
              "      <td>0</td>\n",
              "      <td>1</td>\n",
              "      <td>25</td>\n",
              "      <td>2.345567</td>\n",
              "      <td>77</td>\n",
              "      <td>100.0</td>\n",
              "      <td>2.4</td>\n",
              "      <td>791</td>\n",
              "      <td>2439</td>\n",
              "      <td>...</td>\n",
              "      <td>4.7567</td>\n",
              "      <td>2.77662</td>\n",
              "      <td>10.836735</td>\n",
              "      <td>-336.207841</td>\n",
              "      <td>-1662.316958</td>\n",
              "      <td>-43.879764</td>\n",
              "      <td>-36.908786</td>\n",
              "      <td>-9.127539</td>\n",
              "      <td>0.169107</td>\n",
              "      <td>35.808549</td>\n",
              "    </tr>\n",
              "    <tr>\n",
              "      <th>405</th>\n",
              "      <td>2</td>\n",
              "      <td>0</td>\n",
              "      <td>0</td>\n",
              "      <td>21</td>\n",
              "      <td>2.375244</td>\n",
              "      <td>78</td>\n",
              "      <td>61.0</td>\n",
              "      <td>2.4</td>\n",
              "      <td>791</td>\n",
              "      <td>2439</td>\n",
              "      <td>...</td>\n",
              "      <td>4.7567</td>\n",
              "      <td>2.77662</td>\n",
              "      <td>10.836735</td>\n",
              "      <td>-336.207841</td>\n",
              "      <td>-1662.316958</td>\n",
              "      <td>-43.879764</td>\n",
              "      <td>-36.908786</td>\n",
              "      <td>-9.127539</td>\n",
              "      <td>0.169107</td>\n",
              "      <td>-3.191451</td>\n",
              "    </tr>\n",
              "    <tr>\n",
              "      <th>406</th>\n",
              "      <td>2</td>\n",
              "      <td>0</td>\n",
              "      <td>0</td>\n",
              "      <td>21</td>\n",
              "      <td>2.484629</td>\n",
              "      <td>88</td>\n",
              "      <td>35.0</td>\n",
              "      <td>2.4</td>\n",
              "      <td>791</td>\n",
              "      <td>2439</td>\n",
              "      <td>...</td>\n",
              "      <td>4.7567</td>\n",
              "      <td>2.77662</td>\n",
              "      <td>10.836735</td>\n",
              "      <td>-336.207841</td>\n",
              "      <td>-1662.316958</td>\n",
              "      <td>-43.879764</td>\n",
              "      <td>-36.908786</td>\n",
              "      <td>-9.127539</td>\n",
              "      <td>0.169107</td>\n",
              "      <td>-29.191451</td>\n",
              "    </tr>\n",
              "    <tr>\n",
              "      <th>407</th>\n",
              "      <td>2</td>\n",
              "      <td>0</td>\n",
              "      <td>0</td>\n",
              "      <td>21</td>\n",
              "      <td>2.487546</td>\n",
              "      <td>91</td>\n",
              "      <td>74.0</td>\n",
              "      <td>2.4</td>\n",
              "      <td>791</td>\n",
              "      <td>2439</td>\n",
              "      <td>...</td>\n",
              "      <td>4.7567</td>\n",
              "      <td>2.77662</td>\n",
              "      <td>10.836735</td>\n",
              "      <td>-336.207841</td>\n",
              "      <td>-1662.316958</td>\n",
              "      <td>-43.879764</td>\n",
              "      <td>-36.908786</td>\n",
              "      <td>-9.127539</td>\n",
              "      <td>0.169107</td>\n",
              "      <td>9.808549</td>\n",
              "    </tr>\n",
              "    <tr>\n",
              "      <th>411</th>\n",
              "      <td>2</td>\n",
              "      <td>0</td>\n",
              "      <td>0</td>\n",
              "      <td>21</td>\n",
              "      <td>2.442597</td>\n",
              "      <td>93</td>\n",
              "      <td>98.0</td>\n",
              "      <td>2.4</td>\n",
              "      <td>791</td>\n",
              "      <td>2439</td>\n",
              "      <td>...</td>\n",
              "      <td>4.7567</td>\n",
              "      <td>2.77662</td>\n",
              "      <td>10.836735</td>\n",
              "      <td>-336.207841</td>\n",
              "      <td>-1662.316958</td>\n",
              "      <td>-43.879764</td>\n",
              "      <td>-36.908786</td>\n",
              "      <td>-9.127539</td>\n",
              "      <td>0.169107</td>\n",
              "      <td>33.808549</td>\n",
              "    </tr>\n",
              "    <tr>\n",
              "      <th>412</th>\n",
              "      <td>2</td>\n",
              "      <td>0</td>\n",
              "      <td>0</td>\n",
              "      <td>21</td>\n",
              "      <td>2.437709</td>\n",
              "      <td>77</td>\n",
              "      <td>80.0</td>\n",
              "      <td>2.4</td>\n",
              "      <td>791</td>\n",
              "      <td>2439</td>\n",
              "      <td>...</td>\n",
              "      <td>4.7567</td>\n",
              "      <td>2.77662</td>\n",
              "      <td>10.836735</td>\n",
              "      <td>-336.207841</td>\n",
              "      <td>-1662.316958</td>\n",
              "      <td>-43.879764</td>\n",
              "      <td>-36.908786</td>\n",
              "      <td>-9.127539</td>\n",
              "      <td>0.169107</td>\n",
              "      <td>15.808549</td>\n",
              "    </tr>\n",
              "    <tr>\n",
              "      <th>415</th>\n",
              "      <td>2</td>\n",
              "      <td>0</td>\n",
              "      <td>0</td>\n",
              "      <td>50</td>\n",
              "      <td>2.619134</td>\n",
              "      <td>110</td>\n",
              "      <td>67.0</td>\n",
              "      <td>2.4</td>\n",
              "      <td>791</td>\n",
              "      <td>2439</td>\n",
              "      <td>...</td>\n",
              "      <td>4.7567</td>\n",
              "      <td>2.77662</td>\n",
              "      <td>10.836735</td>\n",
              "      <td>-336.207841</td>\n",
              "      <td>-1662.316958</td>\n",
              "      <td>-43.879764</td>\n",
              "      <td>-36.908786</td>\n",
              "      <td>-9.127539</td>\n",
              "      <td>0.169107</td>\n",
              "      <td>2.808549</td>\n",
              "    </tr>\n",
              "    <tr>\n",
              "      <th>416</th>\n",
              "      <td>2</td>\n",
              "      <td>0</td>\n",
              "      <td>0</td>\n",
              "      <td>32</td>\n",
              "      <td>2.364281</td>\n",
              "      <td>71</td>\n",
              "      <td>95.0</td>\n",
              "      <td>2.4</td>\n",
              "      <td>791</td>\n",
              "      <td>2439</td>\n",
              "      <td>...</td>\n",
              "      <td>4.7567</td>\n",
              "      <td>2.77662</td>\n",
              "      <td>10.836735</td>\n",
              "      <td>-336.207841</td>\n",
              "      <td>-1662.316958</td>\n",
              "      <td>-43.879764</td>\n",
              "      <td>-36.908786</td>\n",
              "      <td>-9.127539</td>\n",
              "      <td>0.169107</td>\n",
              "      <td>30.808549</td>\n",
              "    </tr>\n",
              "    <tr>\n",
              "      <th>417</th>\n",
              "      <td>2</td>\n",
              "      <td>0</td>\n",
              "      <td>0</td>\n",
              "      <td>32</td>\n",
              "      <td>2.383192</td>\n",
              "      <td>72</td>\n",
              "      <td>87.0</td>\n",
              "      <td>2.4</td>\n",
              "      <td>791</td>\n",
              "      <td>2439</td>\n",
              "      <td>...</td>\n",
              "      <td>4.7567</td>\n",
              "      <td>2.77662</td>\n",
              "      <td>10.836735</td>\n",
              "      <td>-336.207841</td>\n",
              "      <td>-1662.316958</td>\n",
              "      <td>-43.879764</td>\n",
              "      <td>-36.908786</td>\n",
              "      <td>-9.127539</td>\n",
              "      <td>0.169107</td>\n",
              "      <td>22.808549</td>\n",
              "    </tr>\n",
              "    <tr>\n",
              "      <th>418</th>\n",
              "      <td>2</td>\n",
              "      <td>0</td>\n",
              "      <td>0</td>\n",
              "      <td>21</td>\n",
              "      <td>2.456094</td>\n",
              "      <td>72</td>\n",
              "      <td>59.0</td>\n",
              "      <td>2.4</td>\n",
              "      <td>791</td>\n",
              "      <td>2439</td>\n",
              "      <td>...</td>\n",
              "      <td>4.7567</td>\n",
              "      <td>2.77662</td>\n",
              "      <td>10.836735</td>\n",
              "      <td>-336.207841</td>\n",
              "      <td>-1662.316958</td>\n",
              "      <td>-43.879764</td>\n",
              "      <td>-36.908786</td>\n",
              "      <td>-9.127539</td>\n",
              "      <td>0.169107</td>\n",
              "      <td>-5.191451</td>\n",
              "    </tr>\n",
              "    <tr>\n",
              "      <th>419</th>\n",
              "      <td>2</td>\n",
              "      <td>0</td>\n",
              "      <td>0</td>\n",
              "      <td>21</td>\n",
              "      <td>2.440821</td>\n",
              "      <td>129</td>\n",
              "      <td>90.0</td>\n",
              "      <td>2.4</td>\n",
              "      <td>791</td>\n",
              "      <td>2439</td>\n",
              "      <td>...</td>\n",
              "      <td>4.7567</td>\n",
              "      <td>2.77662</td>\n",
              "      <td>10.836735</td>\n",
              "      <td>-336.207841</td>\n",
              "      <td>-1662.316958</td>\n",
              "      <td>-43.879764</td>\n",
              "      <td>-36.908786</td>\n",
              "      <td>-9.127539</td>\n",
              "      <td>0.169107</td>\n",
              "      <td>25.808549</td>\n",
              "    </tr>\n",
              "    <tr>\n",
              "      <th>420</th>\n",
              "      <td>2</td>\n",
              "      <td>0</td>\n",
              "      <td>0</td>\n",
              "      <td>21</td>\n",
              "      <td>2.502951</td>\n",
              "      <td>71</td>\n",
              "      <td>39.0</td>\n",
              "      <td>2.4</td>\n",
              "      <td>791</td>\n",
              "      <td>2439</td>\n",
              "      <td>...</td>\n",
              "      <td>4.7567</td>\n",
              "      <td>2.77662</td>\n",
              "      <td>10.836735</td>\n",
              "      <td>-336.207841</td>\n",
              "      <td>-1662.316958</td>\n",
              "      <td>-43.879764</td>\n",
              "      <td>-36.908786</td>\n",
              "      <td>-9.127539</td>\n",
              "      <td>0.169107</td>\n",
              "      <td>-25.191451</td>\n",
              "    </tr>\n",
              "    <tr>\n",
              "      <th>423</th>\n",
              "      <td>2</td>\n",
              "      <td>0</td>\n",
              "      <td>0</td>\n",
              "      <td>21</td>\n",
              "      <td>2.526632</td>\n",
              "      <td>77</td>\n",
              "      <td>63.0</td>\n",
              "      <td>2.4</td>\n",
              "      <td>791</td>\n",
              "      <td>2439</td>\n",
              "      <td>...</td>\n",
              "      <td>4.7567</td>\n",
              "      <td>2.77662</td>\n",
              "      <td>10.836735</td>\n",
              "      <td>-336.207841</td>\n",
              "      <td>-1662.316958</td>\n",
              "      <td>-43.879764</td>\n",
              "      <td>-36.908786</td>\n",
              "      <td>-9.127539</td>\n",
              "      <td>0.169107</td>\n",
              "      <td>-1.191451</td>\n",
              "    </tr>\n",
              "    <tr>\n",
              "      <th>424</th>\n",
              "      <td>2</td>\n",
              "      <td>0</td>\n",
              "      <td>0</td>\n",
              "      <td>21</td>\n",
              "      <td>2.448988</td>\n",
              "      <td>88</td>\n",
              "      <td>61.0</td>\n",
              "      <td>2.4</td>\n",
              "      <td>791</td>\n",
              "      <td>2439</td>\n",
              "      <td>...</td>\n",
              "      <td>4.7567</td>\n",
              "      <td>2.77662</td>\n",
              "      <td>10.836735</td>\n",
              "      <td>-336.207841</td>\n",
              "      <td>-1662.316958</td>\n",
              "      <td>-43.879764</td>\n",
              "      <td>-36.908786</td>\n",
              "      <td>-9.127539</td>\n",
              "      <td>0.169107</td>\n",
              "      <td>-3.191451</td>\n",
              "    </tr>\n",
              "    <tr>\n",
              "      <th>425</th>\n",
              "      <td>2</td>\n",
              "      <td>0</td>\n",
              "      <td>0</td>\n",
              "      <td>47</td>\n",
              "      <td>2.322391</td>\n",
              "      <td>87</td>\n",
              "      <td>3.0</td>\n",
              "      <td>2.4</td>\n",
              "      <td>791</td>\n",
              "      <td>2439</td>\n",
              "      <td>...</td>\n",
              "      <td>4.7567</td>\n",
              "      <td>2.77662</td>\n",
              "      <td>10.836735</td>\n",
              "      <td>-336.207841</td>\n",
              "      <td>-1662.316958</td>\n",
              "      <td>-43.879764</td>\n",
              "      <td>-36.908786</td>\n",
              "      <td>-9.127539</td>\n",
              "      <td>0.169107</td>\n",
              "      <td>-61.191451</td>\n",
              "    </tr>\n",
              "    <tr>\n",
              "      <th>426</th>\n",
              "      <td>2</td>\n",
              "      <td>0</td>\n",
              "      <td>0</td>\n",
              "      <td>21</td>\n",
              "      <td>2.382117</td>\n",
              "      <td>90</td>\n",
              "      <td>75.0</td>\n",
              "      <td>2.4</td>\n",
              "      <td>791</td>\n",
              "      <td>2439</td>\n",
              "      <td>...</td>\n",
              "      <td>4.7567</td>\n",
              "      <td>2.77662</td>\n",
              "      <td>10.836735</td>\n",
              "      <td>-336.207841</td>\n",
              "      <td>-1662.316958</td>\n",
              "      <td>-43.879764</td>\n",
              "      <td>-36.908786</td>\n",
              "      <td>-9.127539</td>\n",
              "      <td>0.169107</td>\n",
              "      <td>10.808549</td>\n",
              "    </tr>\n",
              "    <tr>\n",
              "      <th>427</th>\n",
              "      <td>2</td>\n",
              "      <td>0</td>\n",
              "      <td>0</td>\n",
              "      <td>21</td>\n",
              "      <td>2.673502</td>\n",
              "      <td>180</td>\n",
              "      <td>59.0</td>\n",
              "      <td>2.4</td>\n",
              "      <td>791</td>\n",
              "      <td>2439</td>\n",
              "      <td>...</td>\n",
              "      <td>4.7567</td>\n",
              "      <td>2.77662</td>\n",
              "      <td>10.836735</td>\n",
              "      <td>-336.207841</td>\n",
              "      <td>-1662.316958</td>\n",
              "      <td>-43.879764</td>\n",
              "      <td>-36.908786</td>\n",
              "      <td>-9.127539</td>\n",
              "      <td>0.169107</td>\n",
              "      <td>-5.191451</td>\n",
              "    </tr>\n",
              "    <tr>\n",
              "      <th>428</th>\n",
              "      <td>2</td>\n",
              "      <td>0</td>\n",
              "      <td>0</td>\n",
              "      <td>21</td>\n",
              "      <td>2.590452</td>\n",
              "      <td>152</td>\n",
              "      <td>90.0</td>\n",
              "      <td>2.4</td>\n",
              "      <td>791</td>\n",
              "      <td>2439</td>\n",
              "      <td>...</td>\n",
              "      <td>4.7567</td>\n",
              "      <td>2.77662</td>\n",
              "      <td>10.836735</td>\n",
              "      <td>-336.207841</td>\n",
              "      <td>-1662.316958</td>\n",
              "      <td>-43.879764</td>\n",
              "      <td>-36.908786</td>\n",
              "      <td>-9.127539</td>\n",
              "      <td>0.169107</td>\n",
              "      <td>25.808549</td>\n",
              "    </tr>\n",
              "    <tr>\n",
              "      <th>429</th>\n",
              "      <td>2</td>\n",
              "      <td>0</td>\n",
              "      <td>0</td>\n",
              "      <td>32</td>\n",
              "      <td>2.469427</td>\n",
              "      <td>153</td>\n",
              "      <td>96.0</td>\n",
              "      <td>2.4</td>\n",
              "      <td>791</td>\n",
              "      <td>2439</td>\n",
              "      <td>...</td>\n",
              "      <td>4.7567</td>\n",
              "      <td>2.77662</td>\n",
              "      <td>10.836735</td>\n",
              "      <td>-336.207841</td>\n",
              "      <td>-1662.316958</td>\n",
              "      <td>-43.879764</td>\n",
              "      <td>-36.908786</td>\n",
              "      <td>-9.127539</td>\n",
              "      <td>0.169107</td>\n",
              "      <td>31.808549</td>\n",
              "    </tr>\n",
              "    <tr>\n",
              "      <th>430</th>\n",
              "      <td>2</td>\n",
              "      <td>0</td>\n",
              "      <td>0</td>\n",
              "      <td>32</td>\n",
              "      <td>2.387978</td>\n",
              "      <td>72</td>\n",
              "      <td>78.0</td>\n",
              "      <td>2.4</td>\n",
              "      <td>791</td>\n",
              "      <td>2439</td>\n",
              "      <td>...</td>\n",
              "      <td>4.7567</td>\n",
              "      <td>2.77662</td>\n",
              "      <td>10.836735</td>\n",
              "      <td>-336.207841</td>\n",
              "      <td>-1662.316958</td>\n",
              "      <td>-43.879764</td>\n",
              "      <td>-36.908786</td>\n",
              "      <td>-9.127539</td>\n",
              "      <td>0.169107</td>\n",
              "      <td>13.808549</td>\n",
              "    </tr>\n",
              "  </tbody>\n",
              "</table>\n",
              "<p>20 rows × 42 columns</p>\n",
              "</div>\n",
              "      <button class=\"colab-df-convert\" onclick=\"convertToInteractive('df-64122876-8dc0-4155-b9e7-7e43c870e40d')\"\n",
              "              title=\"Convert this dataframe to an interactive table.\"\n",
              "              style=\"display:none;\">\n",
              "        \n",
              "  <svg xmlns=\"http://www.w3.org/2000/svg\" height=\"24px\"viewBox=\"0 0 24 24\"\n",
              "       width=\"24px\">\n",
              "    <path d=\"M0 0h24v24H0V0z\" fill=\"none\"/>\n",
              "    <path d=\"M18.56 5.44l.94 2.06.94-2.06 2.06-.94-2.06-.94-.94-2.06-.94 2.06-2.06.94zm-11 1L8.5 8.5l.94-2.06 2.06-.94-2.06-.94L8.5 2.5l-.94 2.06-2.06.94zm10 10l.94 2.06.94-2.06 2.06-.94-2.06-.94-.94-2.06-.94 2.06-2.06.94z\"/><path d=\"M17.41 7.96l-1.37-1.37c-.4-.4-.92-.59-1.43-.59-.52 0-1.04.2-1.43.59L10.3 9.45l-7.72 7.72c-.78.78-.78 2.05 0 2.83L4 21.41c.39.39.9.59 1.41.59.51 0 1.02-.2 1.41-.59l7.78-7.78 2.81-2.81c.8-.78.8-2.07 0-2.86zM5.41 20L4 18.59l7.72-7.72 1.47 1.35L5.41 20z\"/>\n",
              "  </svg>\n",
              "      </button>\n",
              "      \n",
              "  <style>\n",
              "    .colab-df-container {\n",
              "      display:flex;\n",
              "      flex-wrap:wrap;\n",
              "      gap: 12px;\n",
              "    }\n",
              "\n",
              "    .colab-df-convert {\n",
              "      background-color: #E8F0FE;\n",
              "      border: none;\n",
              "      border-radius: 50%;\n",
              "      cursor: pointer;\n",
              "      display: none;\n",
              "      fill: #1967D2;\n",
              "      height: 32px;\n",
              "      padding: 0 0 0 0;\n",
              "      width: 32px;\n",
              "    }\n",
              "\n",
              "    .colab-df-convert:hover {\n",
              "      background-color: #E2EBFA;\n",
              "      box-shadow: 0px 1px 2px rgba(60, 64, 67, 0.3), 0px 1px 3px 1px rgba(60, 64, 67, 0.15);\n",
              "      fill: #174EA6;\n",
              "    }\n",
              "\n",
              "    [theme=dark] .colab-df-convert {\n",
              "      background-color: #3B4455;\n",
              "      fill: #D2E3FC;\n",
              "    }\n",
              "\n",
              "    [theme=dark] .colab-df-convert:hover {\n",
              "      background-color: #434B5C;\n",
              "      box-shadow: 0px 1px 3px 1px rgba(0, 0, 0, 0.15);\n",
              "      filter: drop-shadow(0px 1px 2px rgba(0, 0, 0, 0.3));\n",
              "      fill: #FFFFFF;\n",
              "    }\n",
              "  </style>\n",
              "\n",
              "      <script>\n",
              "        const buttonEl =\n",
              "          document.querySelector('#df-64122876-8dc0-4155-b9e7-7e43c870e40d button.colab-df-convert');\n",
              "        buttonEl.style.display =\n",
              "          google.colab.kernel.accessAllowed ? 'block' : 'none';\n",
              "\n",
              "        async function convertToInteractive(key) {\n",
              "          const element = document.querySelector('#df-64122876-8dc0-4155-b9e7-7e43c870e40d');\n",
              "          const dataTable =\n",
              "            await google.colab.kernel.invokeFunction('convertToInteractive',\n",
              "                                                     [key], {});\n",
              "          if (!dataTable) return;\n",
              "\n",
              "          const docLinkHtml = 'Like what you see? Visit the ' +\n",
              "            '<a target=\"_blank\" href=https://colab.research.google.com/notebooks/data_table.ipynb>data table notebook</a>'\n",
              "            + ' to learn more about interactive tables.';\n",
              "          element.innerHTML = '';\n",
              "          dataTable['output_type'] = 'display_data';\n",
              "          await google.colab.output.renderOutput(dataTable, element);\n",
              "          const docLink = document.createElement('div');\n",
              "          docLink.innerHTML = docLinkHtml;\n",
              "          element.appendChild(docLink);\n",
              "        }\n",
              "      </script>\n",
              "    </div>\n",
              "  </div>\n",
              "  "
            ],
            "text/plain": [
              "     Year_Factor  State_Factor  building_class  facility_type  floor_area  \\\n",
              "404            2             0               1             25    2.345567   \n",
              "405            2             0               0             21    2.375244   \n",
              "406            2             0               0             21    2.484629   \n",
              "407            2             0               0             21    2.487546   \n",
              "411            2             0               0             21    2.442597   \n",
              "412            2             0               0             21    2.437709   \n",
              "415            2             0               0             50    2.619134   \n",
              "416            2             0               0             32    2.364281   \n",
              "417            2             0               0             32    2.383192   \n",
              "418            2             0               0             21    2.456094   \n",
              "419            2             0               0             21    2.440821   \n",
              "420            2             0               0             21    2.502951   \n",
              "423            2             0               0             21    2.526632   \n",
              "424            2             0               0             21    2.448988   \n",
              "425            2             0               0             47    2.322391   \n",
              "426            2             0               0             21    2.382117   \n",
              "427            2             0               0             21    2.673502   \n",
              "428            2             0               0             21    2.590452   \n",
              "429            2             0               0             32    2.469427   \n",
              "430            2             0               0             32    2.387978   \n",
              "\n",
              "     year_built  energy_star_rating  ELEVATION  cooling_degree_days  \\\n",
              "404          77               100.0        2.4                  791   \n",
              "405          78                61.0        2.4                  791   \n",
              "406          88                35.0        2.4                  791   \n",
              "407          91                74.0        2.4                  791   \n",
              "411          93                98.0        2.4                  791   \n",
              "412          77                80.0        2.4                  791   \n",
              "415         110                67.0        2.4                  791   \n",
              "416          71                95.0        2.4                  791   \n",
              "417          72                87.0        2.4                  791   \n",
              "418          72                59.0        2.4                  791   \n",
              "419         129                90.0        2.4                  791   \n",
              "420          71                39.0        2.4                  791   \n",
              "423          77                63.0        2.4                  791   \n",
              "424          88                61.0        2.4                  791   \n",
              "425          87                 3.0        2.4                  791   \n",
              "426          90                75.0        2.4                  791   \n",
              "427         180                59.0        2.4                  791   \n",
              "428         152                90.0        2.4                  791   \n",
              "429         153                96.0        2.4                  791   \n",
              "430          72                78.0        2.4                  791   \n",
              "\n",
              "     heating_degree_days  ...  lag1_spring  lag1_autumn  lag1_winter  \\\n",
              "404                 2439  ...       4.7567      2.77662    10.836735   \n",
              "405                 2439  ...       4.7567      2.77662    10.836735   \n",
              "406                 2439  ...       4.7567      2.77662    10.836735   \n",
              "407                 2439  ...       4.7567      2.77662    10.836735   \n",
              "411                 2439  ...       4.7567      2.77662    10.836735   \n",
              "412                 2439  ...       4.7567      2.77662    10.836735   \n",
              "415                 2439  ...       4.7567      2.77662    10.836735   \n",
              "416                 2439  ...       4.7567      2.77662    10.836735   \n",
              "417                 2439  ...       4.7567      2.77662    10.836735   \n",
              "418                 2439  ...       4.7567      2.77662    10.836735   \n",
              "419                 2439  ...       4.7567      2.77662    10.836735   \n",
              "420                 2439  ...       4.7567      2.77662    10.836735   \n",
              "423                 2439  ...       4.7567      2.77662    10.836735   \n",
              "424                 2439  ...       4.7567      2.77662    10.836735   \n",
              "425                 2439  ...       4.7567      2.77662    10.836735   \n",
              "426                 2439  ...       4.7567      2.77662    10.836735   \n",
              "427                 2439  ...       4.7567      2.77662    10.836735   \n",
              "428                 2439  ...       4.7567      2.77662    10.836735   \n",
              "429                 2439  ...       4.7567      2.77662    10.836735   \n",
              "430                 2439  ...       4.7567      2.77662    10.836735   \n",
              "\n",
              "     lag1_cooling_degree_days  lag1_heating_degree_days  \\\n",
              "404               -336.207841              -1662.316958   \n",
              "405               -336.207841              -1662.316958   \n",
              "406               -336.207841              -1662.316958   \n",
              "407               -336.207841              -1662.316958   \n",
              "411               -336.207841              -1662.316958   \n",
              "412               -336.207841              -1662.316958   \n",
              "415               -336.207841              -1662.316958   \n",
              "416               -336.207841              -1662.316958   \n",
              "417               -336.207841              -1662.316958   \n",
              "418               -336.207841              -1662.316958   \n",
              "419               -336.207841              -1662.316958   \n",
              "420               -336.207841              -1662.316958   \n",
              "423               -336.207841              -1662.316958   \n",
              "424               -336.207841              -1662.316958   \n",
              "425               -336.207841              -1662.316958   \n",
              "426               -336.207841              -1662.316958   \n",
              "427               -336.207841              -1662.316958   \n",
              "428               -336.207841              -1662.316958   \n",
              "429               -336.207841              -1662.316958   \n",
              "430               -336.207841              -1662.316958   \n",
              "\n",
              "     lag1_precipitation_inches  lag1_snowfall_inches  lag1_days_below_20F  \\\n",
              "404                 -43.879764            -36.908786            -9.127539   \n",
              "405                 -43.879764            -36.908786            -9.127539   \n",
              "406                 -43.879764            -36.908786            -9.127539   \n",
              "407                 -43.879764            -36.908786            -9.127539   \n",
              "411                 -43.879764            -36.908786            -9.127539   \n",
              "412                 -43.879764            -36.908786            -9.127539   \n",
              "415                 -43.879764            -36.908786            -9.127539   \n",
              "416                 -43.879764            -36.908786            -9.127539   \n",
              "417                 -43.879764            -36.908786            -9.127539   \n",
              "418                 -43.879764            -36.908786            -9.127539   \n",
              "419                 -43.879764            -36.908786            -9.127539   \n",
              "420                 -43.879764            -36.908786            -9.127539   \n",
              "423                 -43.879764            -36.908786            -9.127539   \n",
              "424                 -43.879764            -36.908786            -9.127539   \n",
              "425                 -43.879764            -36.908786            -9.127539   \n",
              "426                 -43.879764            -36.908786            -9.127539   \n",
              "427                 -43.879764            -36.908786            -9.127539   \n",
              "428                 -43.879764            -36.908786            -9.127539   \n",
              "429                 -43.879764            -36.908786            -9.127539   \n",
              "430                 -43.879764            -36.908786            -9.127539   \n",
              "\n",
              "     lag1_days_above_100F  lag1_energy_star_rating  \n",
              "404              0.169107                35.808549  \n",
              "405              0.169107                -3.191451  \n",
              "406              0.169107               -29.191451  \n",
              "407              0.169107                 9.808549  \n",
              "411              0.169107                33.808549  \n",
              "412              0.169107                15.808549  \n",
              "415              0.169107                 2.808549  \n",
              "416              0.169107                30.808549  \n",
              "417              0.169107                22.808549  \n",
              "418              0.169107                -5.191451  \n",
              "419              0.169107                25.808549  \n",
              "420              0.169107               -25.191451  \n",
              "423              0.169107                -1.191451  \n",
              "424              0.169107                -3.191451  \n",
              "425              0.169107               -61.191451  \n",
              "426              0.169107                10.808549  \n",
              "427              0.169107                -5.191451  \n",
              "428              0.169107                25.808549  \n",
              "429              0.169107                31.808549  \n",
              "430              0.169107                13.808549  \n",
              "\n",
              "[20 rows x 42 columns]"
            ]
          },
          "metadata": {},
          "execution_count": 47
        }
      ]
    },
    {
      "cell_type": "markdown",
      "source": [
        "# Test with different predictors"
      ],
      "metadata": {
        "id": "VMXw-78ZXtcd"
      }
    },
    {
      "cell_type": "code",
      "source": [
        "# predictors = ['State_Factor','floor_area_partition', 'energy_star_rating','year_built', 'ELEVATION', 'building_class', \\\n",
        "#               'lag1_days_below_20F', 'lag1_days_above_100F', 'lag1_summer', 'lag1_winter']\n",
        "predictors = [x for x in list(X) if x != \"Year_Factor\"]"
      ],
      "metadata": {
        "id": "tr3FlTbPXpEB"
      },
      "execution_count": null,
      "outputs": []
    },
    {
      "cell_type": "markdown",
      "source": [
        "# Subsetting on our predictors"
      ],
      "metadata": {
        "id": "qkSjNbMzX89i"
      }
    },
    {
      "cell_type": "code",
      "source": [
        "# Pick our feature and reshape the data so it works with the model\n",
        "X_train_reshape = X_train[predictors]\n",
        "X_test_reshape = X_test[predictors]\n",
        "  "
      ],
      "metadata": {
        "id": "5rtiB2D6X9XM"
      },
      "execution_count": null,
      "outputs": []
    },
    {
      "cell_type": "code",
      "source": [
        "full_features = list(X_train_reshape)\n",
        "if (len(full_features) % 2) != 0:\n",
        "  full_features.append(\" \")\n",
        "it = iter(full_features)\n",
        "\n",
        "for feature in it:\n",
        "  print( '{:<40s} {:<40s}'.format(feature, next(it)) )"
      ],
      "metadata": {
        "colab": {
          "base_uri": "https://localhost:8080/"
        },
        "id": "5NLiZIKVS-Eu",
        "outputId": "c1853528-0741-47a0-8685-2e4c15929522"
      },
      "execution_count": null,
      "outputs": [
        {
          "output_type": "stream",
          "name": "stdout",
          "text": [
            "State_Factor                             building_class                          \n",
            "facility_type                            floor_area                              \n",
            "year_built                               energy_star_rating                      \n",
            "ELEVATION                                cooling_degree_days                     \n",
            "heating_degree_days                      precipitation_inches                    \n",
            "snowfall_inches                          snowdepth_inches                        \n",
            "avg_temp                                 days_below_30F                          \n",
            "days_below_20F                           days_below_10F                          \n",
            "days_below_0F                            days_above_80F                          \n",
            "days_above_90F                           days_above_100F                         \n",
            "days_above_110F                          direction_max_wind_speed                \n",
            "direction_peak_wind_speed                max_wind_speed                          \n",
            "days_with_fog                            spring                                  \n",
            "summer                                   autumn                                  \n",
            "winter                                   floor_area_partition                    \n",
            "lag1_summer                              lag1_spring                             \n",
            "lag1_autumn                              lag1_winter                             \n",
            "lag1_cooling_degree_days                 lag1_heating_degree_days                \n",
            "lag1_precipitation_inches                lag1_snowfall_inches                    \n",
            "lag1_days_below_20F                      lag1_days_above_100F                    \n",
            "lag1_energy_star_rating                                                          \n"
          ]
        }
      ]
    },
    {
      "cell_type": "code",
      "source": [
        "X_train_reshape.head(5)"
      ],
      "metadata": {
        "colab": {
          "base_uri": "https://localhost:8080/",
          "height": 300
        },
        "id": "qSrTUBS3QnE_",
        "outputId": "f0c7108e-604e-4257-bf53-de5dfb8e6c03"
      },
      "execution_count": null,
      "outputs": [
        {
          "output_type": "execute_result",
          "data": {
            "text/html": [
              "\n",
              "  <div id=\"df-90bbdf27-21f2-48a5-a666-bd6c5313fe07\">\n",
              "    <div class=\"colab-df-container\">\n",
              "      <div>\n",
              "<style scoped>\n",
              "    .dataframe tbody tr th:only-of-type {\n",
              "        vertical-align: middle;\n",
              "    }\n",
              "\n",
              "    .dataframe tbody tr th {\n",
              "        vertical-align: top;\n",
              "    }\n",
              "\n",
              "    .dataframe thead th {\n",
              "        text-align: right;\n",
              "    }\n",
              "</style>\n",
              "<table border=\"1\" class=\"dataframe\">\n",
              "  <thead>\n",
              "    <tr style=\"text-align: right;\">\n",
              "      <th></th>\n",
              "      <th>State_Factor</th>\n",
              "      <th>building_class</th>\n",
              "      <th>facility_type</th>\n",
              "      <th>floor_area</th>\n",
              "      <th>year_built</th>\n",
              "      <th>energy_star_rating</th>\n",
              "      <th>ELEVATION</th>\n",
              "      <th>cooling_degree_days</th>\n",
              "      <th>heating_degree_days</th>\n",
              "      <th>precipitation_inches</th>\n",
              "      <th>...</th>\n",
              "      <th>lag1_spring</th>\n",
              "      <th>lag1_autumn</th>\n",
              "      <th>lag1_winter</th>\n",
              "      <th>lag1_cooling_degree_days</th>\n",
              "      <th>lag1_heating_degree_days</th>\n",
              "      <th>lag1_precipitation_inches</th>\n",
              "      <th>lag1_snowfall_inches</th>\n",
              "      <th>lag1_days_below_20F</th>\n",
              "      <th>lag1_days_above_100F</th>\n",
              "      <th>lag1_energy_star_rating</th>\n",
              "    </tr>\n",
              "  </thead>\n",
              "  <tbody>\n",
              "    <tr>\n",
              "      <th>22778</th>\n",
              "      <td>5</td>\n",
              "      <td>1</td>\n",
              "      <td>27</td>\n",
              "      <td>2.444162</td>\n",
              "      <td>105</td>\n",
              "      <td>80.304916</td>\n",
              "      <td>42.7</td>\n",
              "      <td>1277</td>\n",
              "      <td>3978</td>\n",
              "      <td>38.51</td>\n",
              "      <td>...</td>\n",
              "      <td>2.927847</td>\n",
              "      <td>-2.896319</td>\n",
              "      <td>1.217899</td>\n",
              "      <td>149.792159</td>\n",
              "      <td>-123.316958</td>\n",
              "      <td>-24.639764</td>\n",
              "      <td>-27.308786</td>\n",
              "      <td>-4.127539</td>\n",
              "      <td>-0.830893</td>\n",
              "      <td>16.113465</td>\n",
              "    </tr>\n",
              "    <tr>\n",
              "      <th>2651</th>\n",
              "      <td>0</td>\n",
              "      <td>0</td>\n",
              "      <td>2</td>\n",
              "      <td>2.519929</td>\n",
              "      <td>138</td>\n",
              "      <td>60.824299</td>\n",
              "      <td>120.4</td>\n",
              "      <td>497</td>\n",
              "      <td>1477</td>\n",
              "      <td>20.69</td>\n",
              "      <td>...</td>\n",
              "      <td>8.065997</td>\n",
              "      <td>7.805679</td>\n",
              "      <td>18.650462</td>\n",
              "      <td>-690.158470</td>\n",
              "      <td>-3018.729479</td>\n",
              "      <td>-21.375227</td>\n",
              "      <td>-24.373840</td>\n",
              "      <td>-10.755400</td>\n",
              "      <td>-0.405092</td>\n",
              "      <td>2.774515</td>\n",
              "    </tr>\n",
              "    <tr>\n",
              "      <th>18285</th>\n",
              "      <td>5</td>\n",
              "      <td>1</td>\n",
              "      <td>27</td>\n",
              "      <td>2.539716</td>\n",
              "      <td>144</td>\n",
              "      <td>58.925980</td>\n",
              "      <td>15.2</td>\n",
              "      <td>1277</td>\n",
              "      <td>3978</td>\n",
              "      <td>38.51</td>\n",
              "      <td>...</td>\n",
              "      <td>2.927847</td>\n",
              "      <td>-2.896319</td>\n",
              "      <td>1.217899</td>\n",
              "      <td>149.792159</td>\n",
              "      <td>-123.316958</td>\n",
              "      <td>-24.639764</td>\n",
              "      <td>-27.308786</td>\n",
              "      <td>-4.127539</td>\n",
              "      <td>-0.830893</td>\n",
              "      <td>-5.265471</td>\n",
              "    </tr>\n",
              "    <tr>\n",
              "      <th>23285</th>\n",
              "      <td>5</td>\n",
              "      <td>1</td>\n",
              "      <td>27</td>\n",
              "      <td>2.419974</td>\n",
              "      <td>118</td>\n",
              "      <td>81.393410</td>\n",
              "      <td>42.7</td>\n",
              "      <td>1277</td>\n",
              "      <td>3978</td>\n",
              "      <td>38.51</td>\n",
              "      <td>...</td>\n",
              "      <td>2.927847</td>\n",
              "      <td>-2.896319</td>\n",
              "      <td>1.217899</td>\n",
              "      <td>149.792159</td>\n",
              "      <td>-123.316958</td>\n",
              "      <td>-24.639764</td>\n",
              "      <td>-27.308786</td>\n",
              "      <td>-4.127539</td>\n",
              "      <td>-0.830893</td>\n",
              "      <td>17.201959</td>\n",
              "    </tr>\n",
              "    <tr>\n",
              "      <th>38217</th>\n",
              "      <td>5</td>\n",
              "      <td>0</td>\n",
              "      <td>32</td>\n",
              "      <td>2.575788</td>\n",
              "      <td>91</td>\n",
              "      <td>79.000000</td>\n",
              "      <td>42.7</td>\n",
              "      <td>1128</td>\n",
              "      <td>4875</td>\n",
              "      <td>53.79</td>\n",
              "      <td>...</td>\n",
              "      <td>-1.474505</td>\n",
              "      <td>0.461593</td>\n",
              "      <td>-3.357602</td>\n",
              "      <td>-59.158470</td>\n",
              "      <td>379.270521</td>\n",
              "      <td>11.724773</td>\n",
              "      <td>25.626160</td>\n",
              "      <td>13.244600</td>\n",
              "      <td>-0.405092</td>\n",
              "      <td>20.950216</td>\n",
              "    </tr>\n",
              "  </tbody>\n",
              "</table>\n",
              "<p>5 rows × 41 columns</p>\n",
              "</div>\n",
              "      <button class=\"colab-df-convert\" onclick=\"convertToInteractive('df-90bbdf27-21f2-48a5-a666-bd6c5313fe07')\"\n",
              "              title=\"Convert this dataframe to an interactive table.\"\n",
              "              style=\"display:none;\">\n",
              "        \n",
              "  <svg xmlns=\"http://www.w3.org/2000/svg\" height=\"24px\"viewBox=\"0 0 24 24\"\n",
              "       width=\"24px\">\n",
              "    <path d=\"M0 0h24v24H0V0z\" fill=\"none\"/>\n",
              "    <path d=\"M18.56 5.44l.94 2.06.94-2.06 2.06-.94-2.06-.94-.94-2.06-.94 2.06-2.06.94zm-11 1L8.5 8.5l.94-2.06 2.06-.94-2.06-.94L8.5 2.5l-.94 2.06-2.06.94zm10 10l.94 2.06.94-2.06 2.06-.94-2.06-.94-.94-2.06-.94 2.06-2.06.94z\"/><path d=\"M17.41 7.96l-1.37-1.37c-.4-.4-.92-.59-1.43-.59-.52 0-1.04.2-1.43.59L10.3 9.45l-7.72 7.72c-.78.78-.78 2.05 0 2.83L4 21.41c.39.39.9.59 1.41.59.51 0 1.02-.2 1.41-.59l7.78-7.78 2.81-2.81c.8-.78.8-2.07 0-2.86zM5.41 20L4 18.59l7.72-7.72 1.47 1.35L5.41 20z\"/>\n",
              "  </svg>\n",
              "      </button>\n",
              "      \n",
              "  <style>\n",
              "    .colab-df-container {\n",
              "      display:flex;\n",
              "      flex-wrap:wrap;\n",
              "      gap: 12px;\n",
              "    }\n",
              "\n",
              "    .colab-df-convert {\n",
              "      background-color: #E8F0FE;\n",
              "      border: none;\n",
              "      border-radius: 50%;\n",
              "      cursor: pointer;\n",
              "      display: none;\n",
              "      fill: #1967D2;\n",
              "      height: 32px;\n",
              "      padding: 0 0 0 0;\n",
              "      width: 32px;\n",
              "    }\n",
              "\n",
              "    .colab-df-convert:hover {\n",
              "      background-color: #E2EBFA;\n",
              "      box-shadow: 0px 1px 2px rgba(60, 64, 67, 0.3), 0px 1px 3px 1px rgba(60, 64, 67, 0.15);\n",
              "      fill: #174EA6;\n",
              "    }\n",
              "\n",
              "    [theme=dark] .colab-df-convert {\n",
              "      background-color: #3B4455;\n",
              "      fill: #D2E3FC;\n",
              "    }\n",
              "\n",
              "    [theme=dark] .colab-df-convert:hover {\n",
              "      background-color: #434B5C;\n",
              "      box-shadow: 0px 1px 3px 1px rgba(0, 0, 0, 0.15);\n",
              "      filter: drop-shadow(0px 1px 2px rgba(0, 0, 0, 0.3));\n",
              "      fill: #FFFFFF;\n",
              "    }\n",
              "  </style>\n",
              "\n",
              "      <script>\n",
              "        const buttonEl =\n",
              "          document.querySelector('#df-90bbdf27-21f2-48a5-a666-bd6c5313fe07 button.colab-df-convert');\n",
              "        buttonEl.style.display =\n",
              "          google.colab.kernel.accessAllowed ? 'block' : 'none';\n",
              "\n",
              "        async function convertToInteractive(key) {\n",
              "          const element = document.querySelector('#df-90bbdf27-21f2-48a5-a666-bd6c5313fe07');\n",
              "          const dataTable =\n",
              "            await google.colab.kernel.invokeFunction('convertToInteractive',\n",
              "                                                     [key], {});\n",
              "          if (!dataTable) return;\n",
              "\n",
              "          const docLinkHtml = 'Like what you see? Visit the ' +\n",
              "            '<a target=\"_blank\" href=https://colab.research.google.com/notebooks/data_table.ipynb>data table notebook</a>'\n",
              "            + ' to learn more about interactive tables.';\n",
              "          element.innerHTML = '';\n",
              "          dataTable['output_type'] = 'display_data';\n",
              "          await google.colab.output.renderOutput(dataTable, element);\n",
              "          const docLink = document.createElement('div');\n",
              "          docLink.innerHTML = docLinkHtml;\n",
              "          element.appendChild(docLink);\n",
              "        }\n",
              "      </script>\n",
              "    </div>\n",
              "  </div>\n",
              "  "
            ],
            "text/plain": [
              "       State_Factor  building_class  facility_type  floor_area  year_built  \\\n",
              "22778             5               1             27    2.444162         105   \n",
              "2651              0               0              2    2.519929         138   \n",
              "18285             5               1             27    2.539716         144   \n",
              "23285             5               1             27    2.419974         118   \n",
              "38217             5               0             32    2.575788          91   \n",
              "\n",
              "       energy_star_rating  ELEVATION  cooling_degree_days  \\\n",
              "22778           80.304916       42.7                 1277   \n",
              "2651            60.824299      120.4                  497   \n",
              "18285           58.925980       15.2                 1277   \n",
              "23285           81.393410       42.7                 1277   \n",
              "38217           79.000000       42.7                 1128   \n",
              "\n",
              "       heating_degree_days  precipitation_inches  ...  lag1_spring  \\\n",
              "22778                 3978                 38.51  ...     2.927847   \n",
              "2651                  1477                 20.69  ...     8.065997   \n",
              "18285                 3978                 38.51  ...     2.927847   \n",
              "23285                 3978                 38.51  ...     2.927847   \n",
              "38217                 4875                 53.79  ...    -1.474505   \n",
              "\n",
              "       lag1_autumn  lag1_winter  lag1_cooling_degree_days  \\\n",
              "22778    -2.896319     1.217899                149.792159   \n",
              "2651      7.805679    18.650462               -690.158470   \n",
              "18285    -2.896319     1.217899                149.792159   \n",
              "23285    -2.896319     1.217899                149.792159   \n",
              "38217     0.461593    -3.357602                -59.158470   \n",
              "\n",
              "       lag1_heating_degree_days  lag1_precipitation_inches  \\\n",
              "22778               -123.316958                 -24.639764   \n",
              "2651               -3018.729479                 -21.375227   \n",
              "18285               -123.316958                 -24.639764   \n",
              "23285               -123.316958                 -24.639764   \n",
              "38217                379.270521                  11.724773   \n",
              "\n",
              "       lag1_snowfall_inches  lag1_days_below_20F  lag1_days_above_100F  \\\n",
              "22778            -27.308786            -4.127539             -0.830893   \n",
              "2651             -24.373840           -10.755400             -0.405092   \n",
              "18285            -27.308786            -4.127539             -0.830893   \n",
              "23285            -27.308786            -4.127539             -0.830893   \n",
              "38217             25.626160            13.244600             -0.405092   \n",
              "\n",
              "       lag1_energy_star_rating  \n",
              "22778                16.113465  \n",
              "2651                  2.774515  \n",
              "18285                -5.265471  \n",
              "23285                17.201959  \n",
              "38217                20.950216  \n",
              "\n",
              "[5 rows x 41 columns]"
            ]
          },
          "metadata": {},
          "execution_count": 50
        }
      ]
    },
    {
      "cell_type": "markdown",
      "source": [
        "# Reduce the feature space by importance"
      ],
      "metadata": {
        "id": "mzEx8w1DYHkd"
      }
    },
    {
      "cell_type": "code",
      "source": [
        "from sklearn.preprocessing import PolynomialFeatures\n",
        "# get all possible interactions\n",
        "poly = PolynomialFeatures(interaction_only=True, include_bias = False)\n",
        "X_all_train_interactions = poly.fit_transform(X_train_reshape)"
      ],
      "metadata": {
        "id": "fso0LzfwYDt4"
      },
      "execution_count": null,
      "outputs": []
    },
    {
      "cell_type": "code",
      "source": [
        "# make it a dataframe\n",
        "X_interactions_train_df = pd.DataFrame(X_all_train_interactions,\n",
        "                   columns=poly.get_feature_names(X_train_reshape.columns))"
      ],
      "metadata": {
        "colab": {
          "base_uri": "https://localhost:8080/"
        },
        "id": "-DGot5JuYKFY",
        "outputId": "788c901e-5a8f-4f97-eb0c-bee519cce3a9"
      },
      "execution_count": null,
      "outputs": [
        {
          "output_type": "stream",
          "name": "stderr",
          "text": [
            "/usr/local/lib/python3.7/dist-packages/sklearn/utils/deprecation.py:87: FutureWarning: Function get_feature_names is deprecated; get_feature_names is deprecated in 1.0 and will be removed in 1.2. Please use get_feature_names_out instead.\n",
            "  warnings.warn(msg, category=FutureWarning)\n"
          ]
        }
      ]
    },
    {
      "cell_type": "code",
      "source": [
        "X_interactions_train_df.shape"
      ],
      "metadata": {
        "colab": {
          "base_uri": "https://localhost:8080/"
        },
        "id": "0nwxuLjNRwnS",
        "outputId": "295d9cf1-949a-42e6-aeda-30f6db48023a"
      },
      "execution_count": null,
      "outputs": [
        {
          "output_type": "execute_result",
          "data": {
            "text/plain": [
              "(89796, 861)"
            ]
          },
          "metadata": {},
          "execution_count": 53
        }
      ]
    },
    {
      "cell_type": "code",
      "source": [
        "# repeat for test set\n",
        "poly = PolynomialFeatures(interaction_only=True, include_bias = False)\n",
        "X_all_interactions_test = poly.fit_transform(X_test_reshape)"
      ],
      "metadata": {
        "id": "57xoJJ-KYNCh"
      },
      "execution_count": null,
      "outputs": []
    },
    {
      "cell_type": "code",
      "source": [
        "X_interactions_test_df = pd.DataFrame(X_all_interactions_test,\n",
        "                   columns=poly.get_feature_names(X_test_reshape.columns))"
      ],
      "metadata": {
        "colab": {
          "base_uri": "https://localhost:8080/"
        },
        "id": "vyhcenFTYPFw",
        "outputId": "7b2a056b-20b4-455f-e765-8376d5504db3"
      },
      "execution_count": null,
      "outputs": [
        {
          "output_type": "stream",
          "name": "stderr",
          "text": [
            "/usr/local/lib/python3.7/dist-packages/sklearn/utils/deprecation.py:87: FutureWarning: Function get_feature_names is deprecated; get_feature_names is deprecated in 1.0 and will be removed in 1.2. Please use get_feature_names_out instead.\n",
            "  warnings.warn(msg, category=FutureWarning)\n"
          ]
        }
      ]
    },
    {
      "cell_type": "code",
      "source": [
        "X_interactions_train_df.head()"
      ],
      "metadata": {
        "colab": {
          "base_uri": "https://localhost:8080/",
          "height": 317
        },
        "id": "xKi20kJfqfAI",
        "outputId": "57584204-8b7b-464a-eff1-a6062d05c658"
      },
      "execution_count": null,
      "outputs": [
        {
          "output_type": "execute_result",
          "data": {
            "text/html": [
              "\n",
              "  <div id=\"df-efae8d9d-9755-4c64-b34f-0c7436415ed4\">\n",
              "    <div class=\"colab-df-container\">\n",
              "      <div>\n",
              "<style scoped>\n",
              "    .dataframe tbody tr th:only-of-type {\n",
              "        vertical-align: middle;\n",
              "    }\n",
              "\n",
              "    .dataframe tbody tr th {\n",
              "        vertical-align: top;\n",
              "    }\n",
              "\n",
              "    .dataframe thead th {\n",
              "        text-align: right;\n",
              "    }\n",
              "</style>\n",
              "<table border=\"1\" class=\"dataframe\">\n",
              "  <thead>\n",
              "    <tr style=\"text-align: right;\">\n",
              "      <th></th>\n",
              "      <th>State_Factor</th>\n",
              "      <th>building_class</th>\n",
              "      <th>facility_type</th>\n",
              "      <th>floor_area</th>\n",
              "      <th>year_built</th>\n",
              "      <th>energy_star_rating</th>\n",
              "      <th>ELEVATION</th>\n",
              "      <th>cooling_degree_days</th>\n",
              "      <th>heating_degree_days</th>\n",
              "      <th>precipitation_inches</th>\n",
              "      <th>...</th>\n",
              "      <th>lag1_precipitation_inches lag1_snowfall_inches</th>\n",
              "      <th>lag1_precipitation_inches lag1_days_below_20F</th>\n",
              "      <th>lag1_precipitation_inches lag1_days_above_100F</th>\n",
              "      <th>lag1_precipitation_inches lag1_energy_star_rating</th>\n",
              "      <th>lag1_snowfall_inches lag1_days_below_20F</th>\n",
              "      <th>lag1_snowfall_inches lag1_days_above_100F</th>\n",
              "      <th>lag1_snowfall_inches lag1_energy_star_rating</th>\n",
              "      <th>lag1_days_below_20F lag1_days_above_100F</th>\n",
              "      <th>lag1_days_below_20F lag1_energy_star_rating</th>\n",
              "      <th>lag1_days_above_100F lag1_energy_star_rating</th>\n",
              "    </tr>\n",
              "  </thead>\n",
              "  <tbody>\n",
              "    <tr>\n",
              "      <th>0</th>\n",
              "      <td>5.0</td>\n",
              "      <td>1.0</td>\n",
              "      <td>27.0</td>\n",
              "      <td>2.444162</td>\n",
              "      <td>105.0</td>\n",
              "      <td>80.304916</td>\n",
              "      <td>42.7</td>\n",
              "      <td>1277.0</td>\n",
              "      <td>3978.0</td>\n",
              "      <td>38.51</td>\n",
              "      <td>...</td>\n",
              "      <td>672.882038</td>\n",
              "      <td>101.701585</td>\n",
              "      <td>20.473002</td>\n",
              "      <td>-397.031980</td>\n",
              "      <td>112.718079</td>\n",
              "      <td>22.690673</td>\n",
              "      <td>-440.039177</td>\n",
              "      <td>3.429542</td>\n",
              "      <td>-66.508956</td>\n",
              "      <td>-13.388562</td>\n",
              "    </tr>\n",
              "    <tr>\n",
              "      <th>1</th>\n",
              "      <td>0.0</td>\n",
              "      <td>0.0</td>\n",
              "      <td>2.0</td>\n",
              "      <td>2.519929</td>\n",
              "      <td>138.0</td>\n",
              "      <td>60.824299</td>\n",
              "      <td>120.4</td>\n",
              "      <td>497.0</td>\n",
              "      <td>1477.0</td>\n",
              "      <td>20.69</td>\n",
              "      <td>...</td>\n",
              "      <td>520.996342</td>\n",
              "      <td>229.899119</td>\n",
              "      <td>8.658941</td>\n",
              "      <td>-59.305891</td>\n",
              "      <td>262.150401</td>\n",
              "      <td>9.873657</td>\n",
              "      <td>-67.625588</td>\n",
              "      <td>4.356931</td>\n",
              "      <td>-29.841022</td>\n",
              "      <td>-1.123935</td>\n",
              "    </tr>\n",
              "    <tr>\n",
              "      <th>2</th>\n",
              "      <td>5.0</td>\n",
              "      <td>1.0</td>\n",
              "      <td>27.0</td>\n",
              "      <td>2.539716</td>\n",
              "      <td>144.0</td>\n",
              "      <td>58.925980</td>\n",
              "      <td>15.2</td>\n",
              "      <td>1277.0</td>\n",
              "      <td>3978.0</td>\n",
              "      <td>38.51</td>\n",
              "      <td>...</td>\n",
              "      <td>672.882038</td>\n",
              "      <td>101.701585</td>\n",
              "      <td>20.473002</td>\n",
              "      <td>129.739972</td>\n",
              "      <td>112.718079</td>\n",
              "      <td>22.690673</td>\n",
              "      <td>143.793632</td>\n",
              "      <td>3.429542</td>\n",
              "      <td>21.733438</td>\n",
              "      <td>4.375042</td>\n",
              "    </tr>\n",
              "    <tr>\n",
              "      <th>3</th>\n",
              "      <td>5.0</td>\n",
              "      <td>1.0</td>\n",
              "      <td>27.0</td>\n",
              "      <td>2.419974</td>\n",
              "      <td>118.0</td>\n",
              "      <td>81.393410</td>\n",
              "      <td>42.7</td>\n",
              "      <td>1277.0</td>\n",
              "      <td>3978.0</td>\n",
              "      <td>38.51</td>\n",
              "      <td>...</td>\n",
              "      <td>672.882038</td>\n",
              "      <td>101.701585</td>\n",
              "      <td>20.473002</td>\n",
              "      <td>-423.852199</td>\n",
              "      <td>112.718079</td>\n",
              "      <td>22.690673</td>\n",
              "      <td>-469.764609</td>\n",
              "      <td>3.429542</td>\n",
              "      <td>-71.001755</td>\n",
              "      <td>-14.292983</td>\n",
              "    </tr>\n",
              "    <tr>\n",
              "      <th>4</th>\n",
              "      <td>5.0</td>\n",
              "      <td>0.0</td>\n",
              "      <td>32.0</td>\n",
              "      <td>2.575788</td>\n",
              "      <td>91.0</td>\n",
              "      <td>79.000000</td>\n",
              "      <td>42.7</td>\n",
              "      <td>1128.0</td>\n",
              "      <td>4875.0</td>\n",
              "      <td>53.79</td>\n",
              "      <td>...</td>\n",
              "      <td>300.460925</td>\n",
              "      <td>155.289930</td>\n",
              "      <td>-4.749616</td>\n",
              "      <td>245.636540</td>\n",
              "      <td>339.408237</td>\n",
              "      <td>-10.380962</td>\n",
              "      <td>536.873606</td>\n",
              "      <td>-5.365286</td>\n",
              "      <td>277.477229</td>\n",
              "      <td>-8.486773</td>\n",
              "    </tr>\n",
              "  </tbody>\n",
              "</table>\n",
              "<p>5 rows × 861 columns</p>\n",
              "</div>\n",
              "      <button class=\"colab-df-convert\" onclick=\"convertToInteractive('df-efae8d9d-9755-4c64-b34f-0c7436415ed4')\"\n",
              "              title=\"Convert this dataframe to an interactive table.\"\n",
              "              style=\"display:none;\">\n",
              "        \n",
              "  <svg xmlns=\"http://www.w3.org/2000/svg\" height=\"24px\"viewBox=\"0 0 24 24\"\n",
              "       width=\"24px\">\n",
              "    <path d=\"M0 0h24v24H0V0z\" fill=\"none\"/>\n",
              "    <path d=\"M18.56 5.44l.94 2.06.94-2.06 2.06-.94-2.06-.94-.94-2.06-.94 2.06-2.06.94zm-11 1L8.5 8.5l.94-2.06 2.06-.94-2.06-.94L8.5 2.5l-.94 2.06-2.06.94zm10 10l.94 2.06.94-2.06 2.06-.94-2.06-.94-.94-2.06-.94 2.06-2.06.94z\"/><path d=\"M17.41 7.96l-1.37-1.37c-.4-.4-.92-.59-1.43-.59-.52 0-1.04.2-1.43.59L10.3 9.45l-7.72 7.72c-.78.78-.78 2.05 0 2.83L4 21.41c.39.39.9.59 1.41.59.51 0 1.02-.2 1.41-.59l7.78-7.78 2.81-2.81c.8-.78.8-2.07 0-2.86zM5.41 20L4 18.59l7.72-7.72 1.47 1.35L5.41 20z\"/>\n",
              "  </svg>\n",
              "      </button>\n",
              "      \n",
              "  <style>\n",
              "    .colab-df-container {\n",
              "      display:flex;\n",
              "      flex-wrap:wrap;\n",
              "      gap: 12px;\n",
              "    }\n",
              "\n",
              "    .colab-df-convert {\n",
              "      background-color: #E8F0FE;\n",
              "      border: none;\n",
              "      border-radius: 50%;\n",
              "      cursor: pointer;\n",
              "      display: none;\n",
              "      fill: #1967D2;\n",
              "      height: 32px;\n",
              "      padding: 0 0 0 0;\n",
              "      width: 32px;\n",
              "    }\n",
              "\n",
              "    .colab-df-convert:hover {\n",
              "      background-color: #E2EBFA;\n",
              "      box-shadow: 0px 1px 2px rgba(60, 64, 67, 0.3), 0px 1px 3px 1px rgba(60, 64, 67, 0.15);\n",
              "      fill: #174EA6;\n",
              "    }\n",
              "\n",
              "    [theme=dark] .colab-df-convert {\n",
              "      background-color: #3B4455;\n",
              "      fill: #D2E3FC;\n",
              "    }\n",
              "\n",
              "    [theme=dark] .colab-df-convert:hover {\n",
              "      background-color: #434B5C;\n",
              "      box-shadow: 0px 1px 3px 1px rgba(0, 0, 0, 0.15);\n",
              "      filter: drop-shadow(0px 1px 2px rgba(0, 0, 0, 0.3));\n",
              "      fill: #FFFFFF;\n",
              "    }\n",
              "  </style>\n",
              "\n",
              "      <script>\n",
              "        const buttonEl =\n",
              "          document.querySelector('#df-efae8d9d-9755-4c64-b34f-0c7436415ed4 button.colab-df-convert');\n",
              "        buttonEl.style.display =\n",
              "          google.colab.kernel.accessAllowed ? 'block' : 'none';\n",
              "\n",
              "        async function convertToInteractive(key) {\n",
              "          const element = document.querySelector('#df-efae8d9d-9755-4c64-b34f-0c7436415ed4');\n",
              "          const dataTable =\n",
              "            await google.colab.kernel.invokeFunction('convertToInteractive',\n",
              "                                                     [key], {});\n",
              "          if (!dataTable) return;\n",
              "\n",
              "          const docLinkHtml = 'Like what you see? Visit the ' +\n",
              "            '<a target=\"_blank\" href=https://colab.research.google.com/notebooks/data_table.ipynb>data table notebook</a>'\n",
              "            + ' to learn more about interactive tables.';\n",
              "          element.innerHTML = '';\n",
              "          dataTable['output_type'] = 'display_data';\n",
              "          await google.colab.output.renderOutput(dataTable, element);\n",
              "          const docLink = document.createElement('div');\n",
              "          docLink.innerHTML = docLinkHtml;\n",
              "          element.appendChild(docLink);\n",
              "        }\n",
              "      </script>\n",
              "    </div>\n",
              "  </div>\n",
              "  "
            ],
            "text/plain": [
              "   State_Factor  building_class  facility_type  floor_area  year_built  \\\n",
              "0           5.0             1.0           27.0    2.444162       105.0   \n",
              "1           0.0             0.0            2.0    2.519929       138.0   \n",
              "2           5.0             1.0           27.0    2.539716       144.0   \n",
              "3           5.0             1.0           27.0    2.419974       118.0   \n",
              "4           5.0             0.0           32.0    2.575788        91.0   \n",
              "\n",
              "   energy_star_rating  ELEVATION  cooling_degree_days  heating_degree_days  \\\n",
              "0           80.304916       42.7               1277.0               3978.0   \n",
              "1           60.824299      120.4                497.0               1477.0   \n",
              "2           58.925980       15.2               1277.0               3978.0   \n",
              "3           81.393410       42.7               1277.0               3978.0   \n",
              "4           79.000000       42.7               1128.0               4875.0   \n",
              "\n",
              "   precipitation_inches  ...  lag1_precipitation_inches lag1_snowfall_inches  \\\n",
              "0                 38.51  ...                                      672.882038   \n",
              "1                 20.69  ...                                      520.996342   \n",
              "2                 38.51  ...                                      672.882038   \n",
              "3                 38.51  ...                                      672.882038   \n",
              "4                 53.79  ...                                      300.460925   \n",
              "\n",
              "   lag1_precipitation_inches lag1_days_below_20F  \\\n",
              "0                                     101.701585   \n",
              "1                                     229.899119   \n",
              "2                                     101.701585   \n",
              "3                                     101.701585   \n",
              "4                                     155.289930   \n",
              "\n",
              "   lag1_precipitation_inches lag1_days_above_100F  \\\n",
              "0                                       20.473002   \n",
              "1                                        8.658941   \n",
              "2                                       20.473002   \n",
              "3                                       20.473002   \n",
              "4                                       -4.749616   \n",
              "\n",
              "   lag1_precipitation_inches lag1_energy_star_rating  \\\n",
              "0                                        -397.031980   \n",
              "1                                         -59.305891   \n",
              "2                                         129.739972   \n",
              "3                                        -423.852199   \n",
              "4                                         245.636540   \n",
              "\n",
              "   lag1_snowfall_inches lag1_days_below_20F  \\\n",
              "0                                112.718079   \n",
              "1                                262.150401   \n",
              "2                                112.718079   \n",
              "3                                112.718079   \n",
              "4                                339.408237   \n",
              "\n",
              "   lag1_snowfall_inches lag1_days_above_100F  \\\n",
              "0                                  22.690673   \n",
              "1                                   9.873657   \n",
              "2                                  22.690673   \n",
              "3                                  22.690673   \n",
              "4                                 -10.380962   \n",
              "\n",
              "   lag1_snowfall_inches lag1_energy_star_rating  \\\n",
              "0                                   -440.039177   \n",
              "1                                    -67.625588   \n",
              "2                                    143.793632   \n",
              "3                                   -469.764609   \n",
              "4                                    536.873606   \n",
              "\n",
              "   lag1_days_below_20F lag1_days_above_100F  \\\n",
              "0                                  3.429542   \n",
              "1                                  4.356931   \n",
              "2                                  3.429542   \n",
              "3                                  3.429542   \n",
              "4                                 -5.365286   \n",
              "\n",
              "   lag1_days_below_20F lag1_energy_star_rating  \\\n",
              "0                                   -66.508956   \n",
              "1                                   -29.841022   \n",
              "2                                    21.733438   \n",
              "3                                   -71.001755   \n",
              "4                                   277.477229   \n",
              "\n",
              "   lag1_days_above_100F lag1_energy_star_rating  \n",
              "0                                    -13.388562  \n",
              "1                                     -1.123935  \n",
              "2                                      4.375042  \n",
              "3                                    -14.292983  \n",
              "4                                     -8.486773  \n",
              "\n",
              "[5 rows x 861 columns]"
            ]
          },
          "metadata": {},
          "execution_count": 58
        }
      ]
    },
    {
      "cell_type": "markdown",
      "source": [
        "# LGB top N features"
      ],
      "metadata": {
        "id": "jqaTFURqYT1x"
      }
    },
    {
      "cell_type": "code",
      "source": [
        "import lightgbm as lgb\n",
        "fit_params = {\"early_stopping_rounds\":100, \n",
        "            \"eval_metric\" : 'rmse', \n",
        "            \"eval_set\" : [(X_interactions_test_df,y_test)],\n",
        "            'eval_names': ['valid'],\n",
        "            'verbose': 1000,\n",
        "           }\n",
        "\n",
        "                                # n_estimators=3000,\n",
        "                                # reg_lambda=3.8446449556043025,\n",
        "                                # colsample_bytree=0.40,\n",
        "                                # subsample=0.65,\n",
        "                                # min_child_samples = 43,\n",
        "                                # learning_rate = 0.025,\n",
        "                                # num_leaves=262\n",
        "lgb_model = lgb.LGBMRegressor (n_estimators = 5000,\n",
        "                                max_depth = 11,\n",
        "                                num_leaves = 15,\n",
        "                                learning_rate = 0.01,\n",
        "                                subsample = 0.9,\n",
        "                                colsample_bytree = 0.7,\n",
        "                                random_state = 42 )\n",
        "lgb_model.fit(X_interactions_train_df, y_train, **fit_params)\n",
        "predictions = lgb_model.predict(X_interactions_test_df)"
      ],
      "metadata": {
        "colab": {
          "base_uri": "https://localhost:8080/"
        },
        "id": "3-L3Rld6lZLB",
        "outputId": "2e2d7a5a-0eec-4427-95e2-9b4cec22ece5"
      },
      "execution_count": null,
      "outputs": [
        {
          "output_type": "stream",
          "name": "stdout",
          "text": [
            "Training until validation scores don't improve for 100 rounds.\n",
            "[1000]\tvalid's l2: 1198.07\tvalid's rmse: 34.6132\n",
            "[2000]\tvalid's l2: 1101.26\tvalid's rmse: 33.1852\n",
            "[3000]\tvalid's l2: 1038.21\tvalid's rmse: 32.2213\n",
            "[4000]\tvalid's l2: 991.412\tvalid's rmse: 31.4867\n",
            "[5000]\tvalid's l2: 952.508\tvalid's rmse: 30.8627\n",
            "Did not meet early stopping. Best iteration is:\n",
            "[5000]\tvalid's l2: 952.508\tvalid's rmse: 30.8627\n"
          ]
        }
      ]
    },
    {
      "cell_type": "code",
      "source": [
        "rmse = np.sqrt(metrics.mean_squared_error(y_test, predictions))\n",
        "print(f'The Mean Square Error is {rmse}')\n",
        "mydf = pd.DataFrame(list(zip(list(X_interactions_train_df), lgb_model.feature_importances_)), columns = ['Feature', 'Importance'])\n"
      ],
      "metadata": {
        "colab": {
          "base_uri": "https://localhost:8080/"
        },
        "id": "1NyXrZZlmHJb",
        "outputId": "e226185c-5a81-460d-bc5a-8e94af690e77"
      },
      "execution_count": null,
      "outputs": [
        {
          "output_type": "stream",
          "name": "stdout",
          "text": [
            "The Mean Square Error is 30.862729068452442\n"
          ]
        }
      ]
    },
    {
      "cell_type": "code",
      "source": [
        "top_features = mydf.sort_values('Importance', ascending=False).head(50)"
      ],
      "metadata": {
        "id": "D6dVqEL-YbPf"
      },
      "execution_count": null,
      "outputs": []
    },
    {
      "cell_type": "code",
      "source": [
        "full_features = list(top_features['Feature'])\n",
        "if (len(full_features) % 2) != 0:\n",
        "  full_features.append(\" \")\n",
        "it = iter(full_features)\n",
        "\n",
        "for feature in it:\n",
        "  print( '{:<40s} {:<40s}'.format(feature, next(it)) )"
      ],
      "metadata": {
        "colab": {
          "base_uri": "https://localhost:8080/"
        },
        "id": "Ltn9kiG8jp1r",
        "outputId": "948b31d2-2abd-4798-8120-76f08638161c"
      },
      "execution_count": null,
      "outputs": [
        {
          "output_type": "stream",
          "name": "stdout",
          "text": [
            "floor_area                               facility_type                           \n",
            "facility_type year_built                 facility_type floor_area                \n",
            "facility_type energy_star_rating         facility_type lag1_energy_star_rating   \n",
            "floor_area year_built                    State_Factor floor_area                 \n",
            "energy_star_rating lag1_energy_star_rating year_built lag1_energy_star_rating      \n",
            "year_built                               year_built energy_star_rating           \n",
            "building_class floor_area                energy_star_rating ELEVATION            \n",
            "floor_area days_with_fog                 year_built ELEVATION                    \n",
            "floor_area autumn                        State_Factor year_built                 \n",
            "facility_type ELEVATION                  State_Factor energy_star_rating         \n",
            "building_class year_built                year_built days_with_fog                \n",
            "energy_star_rating                       State_Factor lag1_energy_star_rating    \n",
            "floor_area ELEVATION                     floor_area spring                       \n",
            "facility_type summer                     floor_area direction_max_wind_speed     \n",
            "floor_area avg_temp                      floor_area summer                       \n",
            "State_Factor facility_type               facility_type days_with_fog             \n",
            "floor_area energy_star_rating            year_built days_above_80F               \n",
            "energy_star_rating winter                ELEVATION lag1_energy_star_rating       \n",
            "building_class lag1_energy_star_rating   facility_type days_below_0F             \n",
            "year_built autumn                        year_built direction_max_wind_speed     \n",
            "facility_type avg_temp                   facility_type heating_degree_days       \n",
            "facility_type direction_max_wind_speed   lag1_spring lag1_energy_star_rating     \n",
            "energy_star_rating direction_max_wind_speed facility_type winter                    \n",
            "facility_type autumn                     year_built summer                       \n",
            "floor_area lag1_energy_star_rating       energy_star_rating lag1_days_above_100F \n"
          ]
        }
      ]
    },
    {
      "cell_type": "code",
      "source": [
        "top_features['Feature']"
      ],
      "metadata": {
        "colab": {
          "base_uri": "https://localhost:8080/"
        },
        "id": "vVn8fHZcpoww",
        "outputId": "fc0c616c-1b0f-4b4e-a553-195a4970c566"
      },
      "execution_count": null,
      "outputs": [
        {
          "output_type": "execute_result",
          "data": {
            "text/plain": [
              "3                                       floor_area\n",
              "2                                    facility_type\n",
              "121                       facility_type year_built\n",
              "120                       facility_type floor_area\n",
              "122               facility_type energy_star_rating\n",
              "157          facility_type lag1_energy_star_rating\n",
              "158                          floor_area year_built\n",
              "43                         State_Factor floor_area\n",
              "265     energy_star_rating lag1_energy_star_rating\n",
              "230             year_built lag1_energy_star_rating\n",
              "4                                       year_built\n",
              "195                  year_built energy_star_rating\n",
              "82                       building_class floor_area\n",
              "231                   energy_star_rating ELEVATION\n",
              "178                       floor_area days_with_fog\n",
              "196                           year_built ELEVATION\n",
              "181                              floor_area autumn\n",
              "44                         State_Factor year_built\n",
              "123                        facility_type ELEVATION\n",
              "45                 State_Factor energy_star_rating\n",
              "83                       building_class year_built\n",
              "214                       year_built days_with_fog\n",
              "5                               energy_star_rating\n",
              "80            State_Factor lag1_energy_star_rating\n",
              "160                           floor_area ELEVATION\n",
              "179                              floor_area spring\n",
              "143                           facility_type summer\n",
              "175            floor_area direction_max_wind_speed\n",
              "166                            floor_area avg_temp\n",
              "180                              floor_area summer\n",
              "42                      State_Factor facility_type\n",
              "141                    facility_type days_with_fog\n",
              "159                  floor_area energy_star_rating\n",
              "207                      year_built days_above_80F\n",
              "253                      energy_star_rating winter\n",
              "299              ELEVATION lag1_energy_star_rating\n",
              "119         building_class lag1_energy_star_rating\n",
              "133                    facility_type days_below_0F\n",
              "217                              year_built autumn\n",
              "211            year_built direction_max_wind_speed\n",
              "129                         facility_type avg_temp\n",
              "125              facility_type heating_degree_days\n",
              "138         facility_type direction_max_wind_speed\n",
              "824            lag1_spring lag1_energy_star_rating\n",
              "246    energy_star_rating direction_max_wind_speed\n",
              "145                           facility_type winter\n",
              "144                           facility_type autumn\n",
              "216                              year_built summer\n",
              "194             floor_area lag1_energy_star_rating\n",
              "264        energy_star_rating lag1_days_above_100F\n",
              "Name: Feature, dtype: object"
            ]
          },
          "metadata": {},
          "execution_count": 63
        }
      ]
    },
    {
      "cell_type": "code",
      "source": [
        "top_features.Feature.values.tolist()"
      ],
      "metadata": {
        "colab": {
          "base_uri": "https://localhost:8080/"
        },
        "id": "L2jYpAWtYdD5",
        "outputId": "3ba229a8-9a7a-4eec-c554-090b97aac9e1"
      },
      "execution_count": null,
      "outputs": [
        {
          "output_type": "execute_result",
          "data": {
            "text/plain": [
              "['floor_area',\n",
              " 'facility_type',\n",
              " 'facility_type year_built',\n",
              " 'facility_type floor_area',\n",
              " 'facility_type energy_star_rating',\n",
              " 'facility_type lag1_energy_star_rating',\n",
              " 'floor_area year_built',\n",
              " 'State_Factor floor_area',\n",
              " 'energy_star_rating lag1_energy_star_rating',\n",
              " 'year_built lag1_energy_star_rating',\n",
              " 'year_built',\n",
              " 'year_built energy_star_rating',\n",
              " 'building_class floor_area',\n",
              " 'energy_star_rating ELEVATION',\n",
              " 'floor_area days_with_fog',\n",
              " 'year_built ELEVATION',\n",
              " 'floor_area autumn',\n",
              " 'State_Factor year_built',\n",
              " 'facility_type ELEVATION',\n",
              " 'State_Factor energy_star_rating',\n",
              " 'building_class year_built',\n",
              " 'year_built days_with_fog',\n",
              " 'energy_star_rating',\n",
              " 'State_Factor lag1_energy_star_rating',\n",
              " 'floor_area ELEVATION',\n",
              " 'floor_area spring',\n",
              " 'facility_type summer',\n",
              " 'floor_area direction_max_wind_speed',\n",
              " 'floor_area avg_temp',\n",
              " 'floor_area summer',\n",
              " 'State_Factor facility_type',\n",
              " 'facility_type days_with_fog',\n",
              " 'floor_area energy_star_rating',\n",
              " 'year_built days_above_80F',\n",
              " 'energy_star_rating winter',\n",
              " 'ELEVATION lag1_energy_star_rating',\n",
              " 'building_class lag1_energy_star_rating',\n",
              " 'facility_type days_below_0F',\n",
              " 'year_built autumn',\n",
              " 'year_built direction_max_wind_speed',\n",
              " 'facility_type avg_temp',\n",
              " 'facility_type heating_degree_days',\n",
              " 'facility_type direction_max_wind_speed',\n",
              " 'lag1_spring lag1_energy_star_rating',\n",
              " 'energy_star_rating direction_max_wind_speed',\n",
              " 'facility_type winter',\n",
              " 'facility_type autumn',\n",
              " 'year_built summer',\n",
              " 'floor_area lag1_energy_star_rating',\n",
              " 'energy_star_rating lag1_days_above_100F']"
            ]
          },
          "metadata": {},
          "execution_count": 64
        }
      ]
    },
    {
      "cell_type": "code",
      "source": [
        "# import xgboost as xgb\n",
        "# regressor = xgb.XGBRegressor(\n",
        "#     n_estimators=250,\n",
        "#     reg_alpha= 1.029841665079736703,\n",
        "#     reg_lambda=3.8446449556043025,\n",
        "#     colsample_bytree=0.40,\n",
        "#     subsample=0.65,\n",
        "#     min_child_samples = 43,\n",
        "#     learning_rate = 0.025,\n",
        "#     num_leaves=262\n",
        "# )\n",
        "# regressor.fit(X_interactions_train_df, y_train)\n"
      ],
      "metadata": {
        "colab": {
          "base_uri": "https://localhost:8080/"
        },
        "id": "tTNwhyHEYRIR",
        "outputId": "799cbd1d-e1fd-42d8-d01b-c6bd7bbb8d3e"
      },
      "execution_count": null,
      "outputs": [
        {
          "output_type": "stream",
          "name": "stdout",
          "text": [
            "[00:48:34] WARNING: /workspace/src/objective/regression_obj.cu:152: reg:linear is now deprecated in favor of reg:squarederror.\n"
          ]
        },
        {
          "output_type": "execute_result",
          "data": {
            "text/plain": [
              "XGBRegressor(colsample_bytree=0.4, learning_rate=0.025, min_child_samples=43,\n",
              "             n_estimators=250, num_leaves=262, reg_alpha=1.0298416650797366,\n",
              "             reg_lambda=3.8446449556043025, subsample=0.65)"
            ]
          },
          "metadata": {},
          "execution_count": 98
        }
      ]
    },
    {
      "cell_type": "code",
      "source": [
        "# predictions = regressor.predict(X_interactions_test_df)\n",
        "# rmse = np.sqrt(metrics.mean_squared_error(y_test, predictions))\n",
        "# print(f'The Mean Square Error is {rmse}')\n",
        "# mydf = pd.DataFrame(list(zip(list(X_interactions_train_df), regressor.feature_importances_)), columns = ['Feature', 'Importance'])\n"
      ],
      "metadata": {
        "colab": {
          "base_uri": "https://localhost:8080/"
        },
        "id": "Cbb13Me9YW6h",
        "outputId": "badd333b-752e-4298-e75c-14a6f8e95b5a"
      },
      "execution_count": null,
      "outputs": [
        {
          "output_type": "stream",
          "name": "stdout",
          "text": [
            "The Mean Square Error is 38.87356511944638\n"
          ]
        }
      ]
    },
    {
      "cell_type": "code",
      "source": [
        "# Get statistically significant features\n",
        "X_train_adjusted = X_interactions_train_df[top_features.Feature.values.tolist()]\n",
        "X_test_adjusted = X_interactions_test_df[top_features.Feature.values.tolist()]\n",
        "\n",
        "\n",
        "# Pick our feature and reshape the data so it works with the model\n",
        "# X_train_adjusted = X_train[predictors]\n",
        "# X_test_adjusted = X_test[predictors]"
      ],
      "metadata": {
        "id": "Ykf91vORYfRg"
      },
      "execution_count": null,
      "outputs": []
    },
    {
      "cell_type": "code",
      "source": [
        "X_train_adjusted.head(10)"
      ],
      "metadata": {
        "colab": {
          "base_uri": "https://localhost:8080/",
          "height": 474
        },
        "id": "5pp1vxyXYmM7",
        "outputId": "2ee26796-0b7e-438b-fda6-54a492c61f04"
      },
      "execution_count": null,
      "outputs": [
        {
          "output_type": "execute_result",
          "data": {
            "text/html": [
              "\n",
              "  <div id=\"df-ba84db0c-074b-44bd-8be8-b1509a45bbfb\">\n",
              "    <div class=\"colab-df-container\">\n",
              "      <div>\n",
              "<style scoped>\n",
              "    .dataframe tbody tr th:only-of-type {\n",
              "        vertical-align: middle;\n",
              "    }\n",
              "\n",
              "    .dataframe tbody tr th {\n",
              "        vertical-align: top;\n",
              "    }\n",
              "\n",
              "    .dataframe thead th {\n",
              "        text-align: right;\n",
              "    }\n",
              "</style>\n",
              "<table border=\"1\" class=\"dataframe\">\n",
              "  <thead>\n",
              "    <tr style=\"text-align: right;\">\n",
              "      <th></th>\n",
              "      <th>floor_area</th>\n",
              "      <th>facility_type</th>\n",
              "      <th>facility_type year_built</th>\n",
              "      <th>facility_type floor_area</th>\n",
              "      <th>facility_type energy_star_rating</th>\n",
              "      <th>facility_type lag1_energy_star_rating</th>\n",
              "      <th>floor_area year_built</th>\n",
              "      <th>State_Factor floor_area</th>\n",
              "      <th>energy_star_rating lag1_energy_star_rating</th>\n",
              "      <th>year_built lag1_energy_star_rating</th>\n",
              "      <th>...</th>\n",
              "      <th>facility_type avg_temp</th>\n",
              "      <th>facility_type heating_degree_days</th>\n",
              "      <th>facility_type direction_max_wind_speed</th>\n",
              "      <th>lag1_spring lag1_energy_star_rating</th>\n",
              "      <th>energy_star_rating direction_max_wind_speed</th>\n",
              "      <th>facility_type winter</th>\n",
              "      <th>facility_type autumn</th>\n",
              "      <th>year_built summer</th>\n",
              "      <th>floor_area lag1_energy_star_rating</th>\n",
              "      <th>energy_star_rating lag1_days_above_100F</th>\n",
              "    </tr>\n",
              "  </thead>\n",
              "  <tbody>\n",
              "    <tr>\n",
              "      <th>0</th>\n",
              "      <td>2.444162</td>\n",
              "      <td>27.0</td>\n",
              "      <td>2835.0</td>\n",
              "      <td>65.992380</td>\n",
              "      <td>2168.232742</td>\n",
              "      <td>435.063564</td>\n",
              "      <td>256.637034</td>\n",
              "      <td>12.220811</td>\n",
              "      <td>1293.990487</td>\n",
              "      <td>1691.913861</td>\n",
              "      <td>...</td>\n",
              "      <td>1548.885246</td>\n",
              "      <td>107406.0</td>\n",
              "      <td>27.000000</td>\n",
              "      <td>47.177768</td>\n",
              "      <td>80.304916</td>\n",
              "      <td>1077.026696</td>\n",
              "      <td>1536.435484</td>\n",
              "      <td>7925.223118</td>\n",
              "      <td>39.383923</td>\n",
              "      <td>-66.724775</td>\n",
              "    </tr>\n",
              "    <tr>\n",
              "      <th>1</th>\n",
              "      <td>2.519929</td>\n",
              "      <td>2.0</td>\n",
              "      <td>276.0</td>\n",
              "      <td>5.039858</td>\n",
              "      <td>121.648598</td>\n",
              "      <td>5.549030</td>\n",
              "      <td>347.750211</td>\n",
              "      <td>0.000000</td>\n",
              "      <td>168.757941</td>\n",
              "      <td>382.883096</td>\n",
              "      <td>...</td>\n",
              "      <td>124.134247</td>\n",
              "      <td>2954.0</td>\n",
              "      <td>133.105350</td>\n",
              "      <td>22.379231</td>\n",
              "      <td>4048.019784</td>\n",
              "      <td>111.174731</td>\n",
              "      <td>131.129749</td>\n",
              "      <td>9115.790323</td>\n",
              "      <td>6.991581</td>\n",
              "      <td>-24.639460</td>\n",
              "    </tr>\n",
              "    <tr>\n",
              "      <th>2</th>\n",
              "      <td>2.539716</td>\n",
              "      <td>27.0</td>\n",
              "      <td>3888.0</td>\n",
              "      <td>68.572344</td>\n",
              "      <td>1591.001450</td>\n",
              "      <td>-142.167728</td>\n",
              "      <td>365.719170</td>\n",
              "      <td>12.698582</td>\n",
              "      <td>-310.273062</td>\n",
              "      <td>-758.227885</td>\n",
              "      <td>...</td>\n",
              "      <td>1548.885246</td>\n",
              "      <td>107406.0</td>\n",
              "      <td>1796.922221</td>\n",
              "      <td>-15.416497</td>\n",
              "      <td>3921.681561</td>\n",
              "      <td>1077.026696</td>\n",
              "      <td>1536.435484</td>\n",
              "      <td>10868.877420</td>\n",
              "      <td>-13.372804</td>\n",
              "      <td>-48.961171</td>\n",
              "    </tr>\n",
              "    <tr>\n",
              "      <th>3</th>\n",
              "      <td>2.419974</td>\n",
              "      <td>27.0</td>\n",
              "      <td>3186.0</td>\n",
              "      <td>65.339302</td>\n",
              "      <td>2197.622063</td>\n",
              "      <td>464.452885</td>\n",
              "      <td>285.556951</td>\n",
              "      <td>12.099871</td>\n",
              "      <td>1400.126072</td>\n",
              "      <td>2029.831126</td>\n",
              "      <td>...</td>\n",
              "      <td>1548.885246</td>\n",
              "      <td>107406.0</td>\n",
              "      <td>27.000000</td>\n",
              "      <td>50.364711</td>\n",
              "      <td>81.393410</td>\n",
              "      <td>1077.026696</td>\n",
              "      <td>1536.435484</td>\n",
              "      <td>8906.441219</td>\n",
              "      <td>41.628296</td>\n",
              "      <td>-67.629196</td>\n",
              "    </tr>\n",
              "    <tr>\n",
              "      <th>4</th>\n",
              "      <td>2.575788</td>\n",
              "      <td>32.0</td>\n",
              "      <td>2912.0</td>\n",
              "      <td>82.425219</td>\n",
              "      <td>2528.000000</td>\n",
              "      <td>670.406923</td>\n",
              "      <td>234.396716</td>\n",
              "      <td>12.878940</td>\n",
              "      <td>1655.067090</td>\n",
              "      <td>1906.469686</td>\n",
              "      <td>...</td>\n",
              "      <td>1744.043836</td>\n",
              "      <td>156000.0</td>\n",
              "      <td>32.000000</td>\n",
              "      <td>-30.891198</td>\n",
              "      <td>79.000000</td>\n",
              "      <td>1074.537634</td>\n",
              "      <td>1863.065233</td>\n",
              "      <td>6767.709140</td>\n",
              "      <td>53.963318</td>\n",
              "      <td>-32.002298</td>\n",
              "    </tr>\n",
              "    <tr>\n",
              "      <th>5</th>\n",
              "      <td>2.443753</td>\n",
              "      <td>27.0</td>\n",
              "      <td>3483.0</td>\n",
              "      <td>65.981331</td>\n",
              "      <td>27.000000</td>\n",
              "      <td>-1540.344159</td>\n",
              "      <td>315.244139</td>\n",
              "      <td>7.331259</td>\n",
              "      <td>-57.049784</td>\n",
              "      <td>-7359.422093</td>\n",
              "      <td>...</td>\n",
              "      <td>1475.595506</td>\n",
              "      <td>128520.0</td>\n",
              "      <td>1796.922221</td>\n",
              "      <td>18.675111</td>\n",
              "      <td>66.552675</td>\n",
              "      <td>924.727189</td>\n",
              "      <td>1545.416010</td>\n",
              "      <td>9634.866666</td>\n",
              "      <td>-139.415581</td>\n",
              "      <td>-0.405092</td>\n",
              "    </tr>\n",
              "    <tr>\n",
              "      <th>6</th>\n",
              "      <td>2.393413</td>\n",
              "      <td>27.0</td>\n",
              "      <td>1998.0</td>\n",
              "      <td>64.622154</td>\n",
              "      <td>1560.606056</td>\n",
              "      <td>-172.563122</td>\n",
              "      <td>177.112570</td>\n",
              "      <td>11.967066</td>\n",
              "      <td>-369.414339</td>\n",
              "      <td>-472.950778</td>\n",
              "      <td>...</td>\n",
              "      <td>1548.885246</td>\n",
              "      <td>107406.0</td>\n",
              "      <td>27.000000</td>\n",
              "      <td>-18.712537</td>\n",
              "      <td>57.800224</td>\n",
              "      <td>1077.026696</td>\n",
              "      <td>1536.435484</td>\n",
              "      <td>5585.395341</td>\n",
              "      <td>-15.296846</td>\n",
              "      <td>-48.025789</td>\n",
              "    </tr>\n",
              "    <tr>\n",
              "      <th>7</th>\n",
              "      <td>2.537206</td>\n",
              "      <td>58.0</td>\n",
              "      <td>5046.0</td>\n",
              "      <td>147.157972</td>\n",
              "      <td>5147.910202</td>\n",
              "      <td>1857.147626</td>\n",
              "      <td>220.736957</td>\n",
              "      <td>12.686032</td>\n",
              "      <td>2841.982524</td>\n",
              "      <td>2785.721439</td>\n",
              "      <td>...</td>\n",
              "      <td>3296.465754</td>\n",
              "      <td>258680.0</td>\n",
              "      <td>19140.000000</td>\n",
              "      <td>38.361566</td>\n",
              "      <td>29289.833908</td>\n",
              "      <td>2021.792243</td>\n",
              "      <td>3582.113262</td>\n",
              "      <td>6639.300538</td>\n",
              "      <td>81.240808</td>\n",
              "      <td>-18.085985</td>\n",
              "    </tr>\n",
              "    <tr>\n",
              "      <th>8</th>\n",
              "      <td>2.412000</td>\n",
              "      <td>32.0</td>\n",
              "      <td>5216.0</td>\n",
              "      <td>77.183998</td>\n",
              "      <td>2624.000000</td>\n",
              "      <td>808.406855</td>\n",
              "      <td>393.155988</td>\n",
              "      <td>4.824000</td>\n",
              "      <td>2071.542565</td>\n",
              "      <td>4117.822415</td>\n",
              "      <td>...</td>\n",
              "      <td>1782.180822</td>\n",
              "      <td>119744.0</td>\n",
              "      <td>2129.685595</td>\n",
              "      <td>36.948596</td>\n",
              "      <td>5457.319337</td>\n",
              "      <td>1463.213518</td>\n",
              "      <td>1732.266667</td>\n",
              "      <td>11214.721326</td>\n",
              "      <td>60.933665</td>\n",
              "      <td>-16.709099</td>\n",
              "    </tr>\n",
              "    <tr>\n",
              "      <th>9</th>\n",
              "      <td>2.397539</td>\n",
              "      <td>27.0</td>\n",
              "      <td>2835.0</td>\n",
              "      <td>64.733553</td>\n",
              "      <td>1755.000000</td>\n",
              "      <td>223.093283</td>\n",
              "      <td>251.741596</td>\n",
              "      <td>11.987695</td>\n",
              "      <td>537.076423</td>\n",
              "      <td>867.584991</td>\n",
              "      <td>...</td>\n",
              "      <td>1534.561644</td>\n",
              "      <td>120420.0</td>\n",
              "      <td>9720.000000</td>\n",
              "      <td>9.899212</td>\n",
              "      <td>23400.000000</td>\n",
              "      <td>941.179147</td>\n",
              "      <td>1667.535484</td>\n",
              "      <td>8012.948925</td>\n",
              "      <td>19.810180</td>\n",
              "      <td>-13.245018</td>\n",
              "    </tr>\n",
              "  </tbody>\n",
              "</table>\n",
              "<p>10 rows × 50 columns</p>\n",
              "</div>\n",
              "      <button class=\"colab-df-convert\" onclick=\"convertToInteractive('df-ba84db0c-074b-44bd-8be8-b1509a45bbfb')\"\n",
              "              title=\"Convert this dataframe to an interactive table.\"\n",
              "              style=\"display:none;\">\n",
              "        \n",
              "  <svg xmlns=\"http://www.w3.org/2000/svg\" height=\"24px\"viewBox=\"0 0 24 24\"\n",
              "       width=\"24px\">\n",
              "    <path d=\"M0 0h24v24H0V0z\" fill=\"none\"/>\n",
              "    <path d=\"M18.56 5.44l.94 2.06.94-2.06 2.06-.94-2.06-.94-.94-2.06-.94 2.06-2.06.94zm-11 1L8.5 8.5l.94-2.06 2.06-.94-2.06-.94L8.5 2.5l-.94 2.06-2.06.94zm10 10l.94 2.06.94-2.06 2.06-.94-2.06-.94-.94-2.06-.94 2.06-2.06.94z\"/><path d=\"M17.41 7.96l-1.37-1.37c-.4-.4-.92-.59-1.43-.59-.52 0-1.04.2-1.43.59L10.3 9.45l-7.72 7.72c-.78.78-.78 2.05 0 2.83L4 21.41c.39.39.9.59 1.41.59.51 0 1.02-.2 1.41-.59l7.78-7.78 2.81-2.81c.8-.78.8-2.07 0-2.86zM5.41 20L4 18.59l7.72-7.72 1.47 1.35L5.41 20z\"/>\n",
              "  </svg>\n",
              "      </button>\n",
              "      \n",
              "  <style>\n",
              "    .colab-df-container {\n",
              "      display:flex;\n",
              "      flex-wrap:wrap;\n",
              "      gap: 12px;\n",
              "    }\n",
              "\n",
              "    .colab-df-convert {\n",
              "      background-color: #E8F0FE;\n",
              "      border: none;\n",
              "      border-radius: 50%;\n",
              "      cursor: pointer;\n",
              "      display: none;\n",
              "      fill: #1967D2;\n",
              "      height: 32px;\n",
              "      padding: 0 0 0 0;\n",
              "      width: 32px;\n",
              "    }\n",
              "\n",
              "    .colab-df-convert:hover {\n",
              "      background-color: #E2EBFA;\n",
              "      box-shadow: 0px 1px 2px rgba(60, 64, 67, 0.3), 0px 1px 3px 1px rgba(60, 64, 67, 0.15);\n",
              "      fill: #174EA6;\n",
              "    }\n",
              "\n",
              "    [theme=dark] .colab-df-convert {\n",
              "      background-color: #3B4455;\n",
              "      fill: #D2E3FC;\n",
              "    }\n",
              "\n",
              "    [theme=dark] .colab-df-convert:hover {\n",
              "      background-color: #434B5C;\n",
              "      box-shadow: 0px 1px 3px 1px rgba(0, 0, 0, 0.15);\n",
              "      filter: drop-shadow(0px 1px 2px rgba(0, 0, 0, 0.3));\n",
              "      fill: #FFFFFF;\n",
              "    }\n",
              "  </style>\n",
              "\n",
              "      <script>\n",
              "        const buttonEl =\n",
              "          document.querySelector('#df-ba84db0c-074b-44bd-8be8-b1509a45bbfb button.colab-df-convert');\n",
              "        buttonEl.style.display =\n",
              "          google.colab.kernel.accessAllowed ? 'block' : 'none';\n",
              "\n",
              "        async function convertToInteractive(key) {\n",
              "          const element = document.querySelector('#df-ba84db0c-074b-44bd-8be8-b1509a45bbfb');\n",
              "          const dataTable =\n",
              "            await google.colab.kernel.invokeFunction('convertToInteractive',\n",
              "                                                     [key], {});\n",
              "          if (!dataTable) return;\n",
              "\n",
              "          const docLinkHtml = 'Like what you see? Visit the ' +\n",
              "            '<a target=\"_blank\" href=https://colab.research.google.com/notebooks/data_table.ipynb>data table notebook</a>'\n",
              "            + ' to learn more about interactive tables.';\n",
              "          element.innerHTML = '';\n",
              "          dataTable['output_type'] = 'display_data';\n",
              "          await google.colab.output.renderOutput(dataTable, element);\n",
              "          const docLink = document.createElement('div');\n",
              "          docLink.innerHTML = docLinkHtml;\n",
              "          element.appendChild(docLink);\n",
              "        }\n",
              "      </script>\n",
              "    </div>\n",
              "  </div>\n",
              "  "
            ],
            "text/plain": [
              "   floor_area  facility_type  facility_type year_built  \\\n",
              "0    2.444162           27.0                    2835.0   \n",
              "1    2.519929            2.0                     276.0   \n",
              "2    2.539716           27.0                    3888.0   \n",
              "3    2.419974           27.0                    3186.0   \n",
              "4    2.575788           32.0                    2912.0   \n",
              "5    2.443753           27.0                    3483.0   \n",
              "6    2.393413           27.0                    1998.0   \n",
              "7    2.537206           58.0                    5046.0   \n",
              "8    2.412000           32.0                    5216.0   \n",
              "9    2.397539           27.0                    2835.0   \n",
              "\n",
              "   facility_type floor_area  facility_type energy_star_rating  \\\n",
              "0                 65.992380                       2168.232742   \n",
              "1                  5.039858                        121.648598   \n",
              "2                 68.572344                       1591.001450   \n",
              "3                 65.339302                       2197.622063   \n",
              "4                 82.425219                       2528.000000   \n",
              "5                 65.981331                         27.000000   \n",
              "6                 64.622154                       1560.606056   \n",
              "7                147.157972                       5147.910202   \n",
              "8                 77.183998                       2624.000000   \n",
              "9                 64.733553                       1755.000000   \n",
              "\n",
              "   facility_type lag1_energy_star_rating  floor_area year_built  \\\n",
              "0                             435.063564             256.637034   \n",
              "1                               5.549030             347.750211   \n",
              "2                            -142.167728             365.719170   \n",
              "3                             464.452885             285.556951   \n",
              "4                             670.406923             234.396716   \n",
              "5                           -1540.344159             315.244139   \n",
              "6                            -172.563122             177.112570   \n",
              "7                            1857.147626             220.736957   \n",
              "8                             808.406855             393.155988   \n",
              "9                             223.093283             251.741596   \n",
              "\n",
              "   State_Factor floor_area  energy_star_rating lag1_energy_star_rating  \\\n",
              "0                12.220811                                 1293.990487   \n",
              "1                 0.000000                                  168.757941   \n",
              "2                12.698582                                 -310.273062   \n",
              "3                12.099871                                 1400.126072   \n",
              "4                12.878940                                 1655.067090   \n",
              "5                 7.331259                                  -57.049784   \n",
              "6                11.967066                                 -369.414339   \n",
              "7                12.686032                                 2841.982524   \n",
              "8                 4.824000                                 2071.542565   \n",
              "9                11.987695                                  537.076423   \n",
              "\n",
              "   year_built lag1_energy_star_rating  ...  facility_type avg_temp  \\\n",
              "0                         1691.913861  ...             1548.885246   \n",
              "1                          382.883096  ...              124.134247   \n",
              "2                         -758.227885  ...             1548.885246   \n",
              "3                         2029.831126  ...             1548.885246   \n",
              "4                         1906.469686  ...             1744.043836   \n",
              "5                        -7359.422093  ...             1475.595506   \n",
              "6                         -472.950778  ...             1548.885246   \n",
              "7                         2785.721439  ...             3296.465754   \n",
              "8                         4117.822415  ...             1782.180822   \n",
              "9                          867.584991  ...             1534.561644   \n",
              "\n",
              "   facility_type heating_degree_days  facility_type direction_max_wind_speed  \\\n",
              "0                           107406.0                               27.000000   \n",
              "1                             2954.0                              133.105350   \n",
              "2                           107406.0                             1796.922221   \n",
              "3                           107406.0                               27.000000   \n",
              "4                           156000.0                               32.000000   \n",
              "5                           128520.0                             1796.922221   \n",
              "6                           107406.0                               27.000000   \n",
              "7                           258680.0                            19140.000000   \n",
              "8                           119744.0                             2129.685595   \n",
              "9                           120420.0                             9720.000000   \n",
              "\n",
              "   lag1_spring lag1_energy_star_rating  \\\n",
              "0                            47.177768   \n",
              "1                            22.379231   \n",
              "2                           -15.416497   \n",
              "3                            50.364711   \n",
              "4                           -30.891198   \n",
              "5                            18.675111   \n",
              "6                           -18.712537   \n",
              "7                            38.361566   \n",
              "8                            36.948596   \n",
              "9                             9.899212   \n",
              "\n",
              "   energy_star_rating direction_max_wind_speed  facility_type winter  \\\n",
              "0                                    80.304916           1077.026696   \n",
              "1                                  4048.019784            111.174731   \n",
              "2                                  3921.681561           1077.026696   \n",
              "3                                    81.393410           1077.026696   \n",
              "4                                    79.000000           1074.537634   \n",
              "5                                    66.552675            924.727189   \n",
              "6                                    57.800224           1077.026696   \n",
              "7                                 29289.833908           2021.792243   \n",
              "8                                  5457.319337           1463.213518   \n",
              "9                                 23400.000000            941.179147   \n",
              "\n",
              "   facility_type autumn  year_built summer  \\\n",
              "0           1536.435484        7925.223118   \n",
              "1            131.129749        9115.790323   \n",
              "2           1536.435484       10868.877420   \n",
              "3           1536.435484        8906.441219   \n",
              "4           1863.065233        6767.709140   \n",
              "5           1545.416010        9634.866666   \n",
              "6           1536.435484        5585.395341   \n",
              "7           3582.113262        6639.300538   \n",
              "8           1732.266667       11214.721326   \n",
              "9           1667.535484        8012.948925   \n",
              "\n",
              "   floor_area lag1_energy_star_rating  energy_star_rating lag1_days_above_100F  \n",
              "0                           39.383923                               -66.724775  \n",
              "1                            6.991581                               -24.639460  \n",
              "2                          -13.372804                               -48.961171  \n",
              "3                           41.628296                               -67.629196  \n",
              "4                           53.963318                               -32.002298  \n",
              "5                         -139.415581                                -0.405092  \n",
              "6                          -15.296846                               -48.025789  \n",
              "7                           81.240808                               -18.085985  \n",
              "8                           60.933665                               -16.709099  \n",
              "9                           19.810180                               -13.245018  \n",
              "\n",
              "[10 rows x 50 columns]"
            ]
          },
          "metadata": {},
          "execution_count": 66
        }
      ]
    },
    {
      "cell_type": "markdown",
      "source": [
        "# Linear Regression on reduced important features"
      ],
      "metadata": {
        "id": "J4BQpQkhYpVr"
      }
    },
    {
      "cell_type": "code",
      "source": [
        "# Instantiate the model\n",
        "linear_regression_model = LinearRegression() \n",
        "\n",
        "# Fit model to training data\n",
        "linear_regression_model.fit(X_train_adjusted, y_train)"
      ],
      "metadata": {
        "colab": {
          "base_uri": "https://localhost:8080/"
        },
        "id": "FhjnnXPFYocx",
        "outputId": "9e528bd9-8830-4b13-f547-7b0ce250f818"
      },
      "execution_count": null,
      "outputs": [
        {
          "output_type": "execute_result",
          "data": {
            "text/plain": [
              "LinearRegression()"
            ]
          },
          "metadata": {},
          "execution_count": 68
        }
      ]
    },
    {
      "cell_type": "code",
      "source": [
        "predictions = linear_regression_model.predict(X_test_adjusted)\n"
      ],
      "metadata": {
        "id": "vWH1X3DuZDIl"
      },
      "execution_count": null,
      "outputs": []
    },
    {
      "cell_type": "code",
      "source": [
        "rmse = np.sqrt(metrics.mean_squared_error(y_test, predictions))\n",
        "print(f'The Mean Square Error is {rmse}')"
      ],
      "metadata": {
        "colab": {
          "base_uri": "https://localhost:8080/"
        },
        "id": "TfACiWy3ZEjS",
        "outputId": "dd726525-4269-4281-d58f-f31f45d2348d"
      },
      "execution_count": null,
      "outputs": [
        {
          "output_type": "stream",
          "name": "stdout",
          "text": [
            "The Mean Square Error is 45.09199532022846\n"
          ]
        }
      ]
    },
    {
      "cell_type": "markdown",
      "source": [
        "# LASSO CV"
      ],
      "metadata": {
        "id": "M6BL9eBuYy6s"
      }
    },
    {
      "cell_type": "code",
      "source": [
        "#from sklearn.linear_model import LassoCV\n",
        "#reg = LassoCV(cv=5, random_state=0).fit(X_train_adjusted, y_train)\n"
      ],
      "metadata": {
        "id": "TVOEBgUVYvK_"
      },
      "execution_count": null,
      "outputs": []
    },
    {
      "cell_type": "code",
      "source": [
        "#predictions = reg.predict(X_test_adjusted)"
      ],
      "metadata": {
        "id": "4fllNHCyZJS_"
      },
      "execution_count": null,
      "outputs": []
    },
    {
      "cell_type": "code",
      "source": [
        "#rmse = np.sqrt(metrics.mean_squared_error(y_test, predictions))\n",
        "#print(f'The Mean Square Error is {rmse}')"
      ],
      "metadata": {
        "colab": {
          "base_uri": "https://localhost:8080/"
        },
        "id": "f1p0xtUMZKu_",
        "outputId": "21ec7d90-0eaf-4ddc-f2ac-f2c34910e190"
      },
      "execution_count": null,
      "outputs": [
        {
          "output_type": "stream",
          "name": "stdout",
          "text": [
            "The Mean Square Error is 47.27165664097512\n"
          ]
        }
      ]
    },
    {
      "cell_type": "markdown",
      "source": [
        "# XGBoost"
      ],
      "metadata": {
        "id": "gSb7stD9ZPNw"
      }
    },
    {
      "cell_type": "code",
      "source": [
        "# import xgboost as xgb\n",
        "# regressor = xgb.XGBRegressor(\n",
        "#     n_estimators=3000,\n",
        "#     reg_lambda=3.8446449556043025,\n",
        "#     colsample_bytree=0.40,\n",
        "#     subsample=0.65,\n",
        "#     min_child_samples = 43,\n",
        "#     learning_rate = 0.025,\n",
        "#     num_leaves=262\n",
        "# )\n",
        "# regressor.fit(X_train_adjusted, y_train)\n",
        "\n",
        "# mydf = pd.DataFrame(list(zip(list(X_train_adjusted), regressor.feature_importances_)), columns = ['Feature', 'Importance'])\n",
        "# mydf.sort_values('Importance', ascending=False).head(15)"
      ],
      "metadata": {
        "id": "QBeRT3HyZMKP"
      },
      "execution_count": null,
      "outputs": []
    },
    {
      "cell_type": "code",
      "source": [
        "# predictions = regressor.predict(X_test_adjusted)\n",
        "# rmse = np.sqrt(metrics.mean_squared_error(y_test, predictions))\n",
        "# print(f'The Mean Square Error is {rmse}')"
      ],
      "metadata": {
        "id": "Dfe1VxrWZStA"
      },
      "execution_count": null,
      "outputs": []
    },
    {
      "cell_type": "markdown",
      "source": [
        "# Light GBM?"
      ],
      "metadata": {
        "id": "2uCHzrr8kPr4"
      }
    },
    {
      "cell_type": "code",
      "source": [
        "import lightgbm as lgb\n",
        "fit_params = {\"early_stopping_rounds\":100, \n",
        "            \"eval_metric\" : 'rmse', \n",
        "            \"eval_set\" : [(X_test_adjusted,y_test)],\n",
        "            'eval_names': ['valid'],\n",
        "            'verbose': 1000,\n",
        "           }\n",
        "lgb_model_1 = lgb.LGBMRegressor (n_estimators = 40000,\n",
        "                                max_depth = 11,\n",
        "                                num_leaves = 15,\n",
        "                                learning_rate = 0.025,\n",
        "                                subsample = 0.9,\n",
        "                                colsample_bytree = 0.7,\n",
        "                                random_state = 42 )\n",
        "lgb_model_1.fit(X_train_adjusted, y_train, **fit_params)\n",
        "predictions_1 = lgb_model_1.predict(X_test_adjusted)"
      ],
      "metadata": {
        "id": "pX50POONZoJu",
        "colab": {
          "base_uri": "https://localhost:8080/"
        },
        "outputId": "db172375-ed13-45f1-8480-71e6439714f7"
      },
      "execution_count": null,
      "outputs": [
        {
          "output_type": "stream",
          "name": "stdout",
          "text": [
            "Training until validation scores don't improve for 100 rounds.\n",
            "[1000]\tvalid's l2: 1041.68\tvalid's rmse: 32.2751\n",
            "[2000]\tvalid's l2: 901.756\tvalid's rmse: 30.0293\n",
            "[3000]\tvalid's l2: 830.817\tvalid's rmse: 28.8239\n",
            "[4000]\tvalid's l2: 783.753\tvalid's rmse: 27.9956\n",
            "[5000]\tvalid's l2: 751.596\tvalid's rmse: 27.4152\n",
            "[6000]\tvalid's l2: 727.1\tvalid's rmse: 26.9648\n",
            "[7000]\tvalid's l2: 709.009\tvalid's rmse: 26.6272\n",
            "[8000]\tvalid's l2: 691.663\tvalid's rmse: 26.2995\n",
            "[9000]\tvalid's l2: 678.795\tvalid's rmse: 26.0537\n",
            "[10000]\tvalid's l2: 666.044\tvalid's rmse: 25.8078\n",
            "[11000]\tvalid's l2: 655.359\tvalid's rmse: 25.6\n",
            "[12000]\tvalid's l2: 646.896\tvalid's rmse: 25.4342\n",
            "[13000]\tvalid's l2: 638.323\tvalid's rmse: 25.2651\n",
            "[14000]\tvalid's l2: 631.034\tvalid's rmse: 25.1204\n",
            "[15000]\tvalid's l2: 624.625\tvalid's rmse: 24.9925\n",
            "[16000]\tvalid's l2: 618.653\tvalid's rmse: 24.8727\n",
            "[17000]\tvalid's l2: 613.591\tvalid's rmse: 24.7708\n",
            "[18000]\tvalid's l2: 608.791\tvalid's rmse: 24.6737\n",
            "[19000]\tvalid's l2: 603.449\tvalid's rmse: 24.5652\n",
            "[20000]\tvalid's l2: 598.326\tvalid's rmse: 24.4607\n",
            "[21000]\tvalid's l2: 594.031\tvalid's rmse: 24.3728\n",
            "[22000]\tvalid's l2: 590.253\tvalid's rmse: 24.2951\n",
            "[23000]\tvalid's l2: 586.738\tvalid's rmse: 24.2227\n",
            "[24000]\tvalid's l2: 584.029\tvalid's rmse: 24.1667\n",
            "[25000]\tvalid's l2: 581.083\tvalid's rmse: 24.1057\n",
            "[26000]\tvalid's l2: 578.117\tvalid's rmse: 24.0441\n",
            "[27000]\tvalid's l2: 576.089\tvalid's rmse: 24.0019\n",
            "[28000]\tvalid's l2: 574.451\tvalid's rmse: 23.9677\n",
            "[29000]\tvalid's l2: 572.527\tvalid's rmse: 23.9275\n",
            "[30000]\tvalid's l2: 570.594\tvalid's rmse: 23.8871\n",
            "[31000]\tvalid's l2: 568.964\tvalid's rmse: 23.853\n",
            "[32000]\tvalid's l2: 567.882\tvalid's rmse: 23.8303\n",
            "[33000]\tvalid's l2: 566.545\tvalid's rmse: 23.8022\n",
            "[34000]\tvalid's l2: 565.125\tvalid's rmse: 23.7724\n",
            "[35000]\tvalid's l2: 563.509\tvalid's rmse: 23.7383\n",
            "[36000]\tvalid's l2: 562.212\tvalid's rmse: 23.711\n",
            "[37000]\tvalid's l2: 561.031\tvalid's rmse: 23.6861\n",
            "[38000]\tvalid's l2: 559.766\tvalid's rmse: 23.6594\n",
            "[39000]\tvalid's l2: 558.108\tvalid's rmse: 23.6243\n",
            "[40000]\tvalid's l2: 556.721\tvalid's rmse: 23.5949\n",
            "Did not meet early stopping. Best iteration is:\n",
            "[39999]\tvalid's l2: 556.721\tvalid's rmse: 23.5949\n"
          ]
        }
      ]
    },
    {
      "cell_type": "code",
      "source": [
        "for y, y_pred in list(zip(y_test, predictions_1))[:5]:\n",
        "    print('Real value: {:.3f} Estimated value: {:.5f}'.format(y, y_pred))\n",
        "rmse = np.sqrt(metrics.mean_squared_error(y_test, predictions_1))\n",
        "print(f'The Mean Squared Error is {rmse}')"
      ],
      "metadata": {
        "id": "3yZPrl3bkpOJ"
      },
      "execution_count": null,
      "outputs": []
    }
  ],
  "metadata": {
    "colab": {
      "collapsed_sections": [],
      "name": "predicting_site_eui.ipynb",
      "provenance": [],
      "toc_visible": true
    },
    "kernelspec": {
      "display_name": "Python 3",
      "name": "python3"
    },
    "language_info": {
      "name": "python"
    }
  },
  "nbformat": 4,
  "nbformat_minor": 0
}